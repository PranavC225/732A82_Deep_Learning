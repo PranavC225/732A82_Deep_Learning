{
 "cells": [
  {
   "cell_type": "markdown",
   "metadata": {
    "id": "y8SC3p-UCusw"
   },
   "source": [
    "# RNN Machine Translation Laboration"
   ]
  },
  {
   "cell_type": "markdown",
   "metadata": {
    "id": "nvKNkEYrCusy"
   },
   "source": [
    "In this lab, your task is to build a sequence-to-sequence model, using recurrent neural networks, that translates short sentences from Swedish into English."
   ]
  },
  {
   "cell_type": "code",
   "execution_count": 1,
   "metadata": {
    "tags": []
   },
   "outputs": [],
   "source": [
    "import os\n",
    "os.environ[\"TF_CPP_MIN_LOG_LEVEL\"] = \"2\"  # Tensorflow is quite chatty; filter out warnings"
   ]
  },
  {
   "cell_type": "code",
   "execution_count": 2,
   "metadata": {
    "id": "IDNS-GhLCusz",
    "tags": []
   },
   "outputs": [
    {
     "name": "stderr",
     "output_type": "stream",
     "text": [
      "2025-05-08 15:32:21.021857: E external/local_xla/xla/stream_executor/cuda/cuda_fft.cc:477] Unable to register cuFFT factory: Attempting to register factory for plugin cuFFT when one has already been registered\n",
      "WARNING: All log messages before absl::InitializeLog() is called are written to STDERR\n",
      "E0000 00:00:1746711141.111130  851396 cuda_dnn.cc:8310] Unable to register cuDNN factory: Attempting to register factory for plugin cuDNN when one has already been registered\n",
      "E0000 00:00:1746711141.137686  851396 cuda_blas.cc:1418] Unable to register cuBLAS factory: Attempting to register factory for plugin cuBLAS when one has already been registered\n"
     ]
    }
   ],
   "source": [
    "import tensorflow as tf\n",
    "import tf_keras as keras\n",
    "from tf_keras import layers"
   ]
  },
  {
   "cell_type": "markdown",
   "metadata": {},
   "source": [
    "### Check that Tensorflow uses a GPU _(optional)_\n",
    "\n",
    "Training the models in this notebook can be sped up significantly with a GPU.  The following cell can be used to check if the GPU is set up correctly.  If you run on CPU, you can either run or just ignore this cell."
   ]
  },
  {
   "cell_type": "code",
   "execution_count": 3,
   "metadata": {},
   "outputs": [
    {
     "name": "stdout",
     "output_type": "stream",
     "text": [
      "✓ Tensorflow has detected a GPU.\n",
      "\n",
      "✗ XLA_FLAGS not set. If you encounter errors during training, you might have to set\n",
      "        XLA_FLAGS=\"--xla_gpu_cuda_data_dir=$CONDA_PREFIX/lib/\"\n"
     ]
    }
   ],
   "source": [
    "os.environ[\"CUDA_DEVICE_ORDER\"]=\"PCI_BUS_ID\"\n",
    "# The GPU id to use, usually either \"0\" or \"1\"\n",
    "os.environ[\"CUDA_VISIBLE_DEVICES\"]=\"0\"\n",
    "\n",
    "if tf.config.list_physical_devices(\"GPU\"):\n",
    "    print(\"✓ Tensorflow has detected a GPU.\")\n",
    "    import shutil\n",
    "    if not shutil.which(\"ptxas\"):\n",
    "        print(\"\\n✗ Command 'ptxas' not found in path -- you might have to install `cudatoolkit-dev`\")\n",
    "    if not \"XLA_FLAGS\" in os.environ:\n",
    "        print(\"\\n✗ XLA_FLAGS not set. If you encounter errors during training, you might have to set\")\n",
    "        print(\"        XLA_FLAGS=\\\"--xla_gpu_cuda_data_dir=$CONDA_PREFIX/lib/\\\"\")\n",
    "    \n",
    "    # Allow growth of GPU memory, otherwise it will always look like all the memory is being used\n",
    "    physical_devices = tf.config.experimental.list_physical_devices('GPU')\n",
    "    tf.config.experimental.set_memory_growth(physical_devices[0], True) \n",
    "else:\n",
    "    print(\"✗ Tensorflow has NOT detected a GPU.\")\n",
    "    print()\n",
    "    print(\"For GPU support, visit: <https://www.tensorflow.org/install/pip>\")"
   ]
  },
  {
   "cell_type": "markdown",
   "metadata": {},
   "source": [
    "## Problem Specification\n",
    "\n",
    "Your task in this assignment is to:\n",
    "\n",
    "1. Build an encoder—decoder model based on recurrent neural networks.\n",
    "2. Train this model on the provided training data, a collection of parallel Swedish–English sentences.\n",
    "3. Evaluate the performance of this model on the provided test data."
   ]
  },
  {
   "cell_type": "markdown",
   "metadata": {
    "id": "aX-5kU7mCus1"
   },
   "source": [
    "### The data: Swedish–English Anki corpus"
   ]
  },
  {
   "cell_type": "markdown",
   "metadata": {
    "id": "luSjyoOqCus2"
   },
   "source": [
    "The data in this lab consists of bilingual Swedish–English sentence pairs from the [Tatoeba Project](https://tatoeba.org/en) as collected by [Anki](http://www.manythings.org/anki/).  These are comparatively short sentences, suitable for language learners, and therefore also well-suited for building a small machine translation model. Here are some example sentences from the training set:"
   ]
  },
  {
   "cell_type": "code",
   "execution_count": 3,
   "metadata": {
    "id": "EaFUyzF-Cus2",
    "tags": []
   },
   "outputs": [
    {
     "name": "stdout",
     "output_type": "stream",
     "text": [
      "['i returned to japan .', 'jag återvände till japan .']\n",
      "['i love her .', 'jag älskar henne .']\n",
      "[\"this is tom ' s school .\", 'detta är toms skola .']\n",
      "['i can hardly stand .', 'jag kan knappt stå .']\n"
     ]
    }
   ],
   "source": [
    "with open(\"en-sv-train.txt\", \"rt\", encoding=\"utf-8\") as f:\n",
    "    for i, line in enumerate(f):\n",
    "        pair = [sent for sent in line.rstrip().split(\"\\t\")]\n",
    "        print(pair)\n",
    "        if i > 2:\n",
    "            break"
   ]
  },
  {
   "cell_type": "markdown",
   "metadata": {
    "id": "cVYZFLVyCus3"
   },
   "source": [
    "Each line in the data files consists of an English–Swedish sentence pair. The sentences are already lower-cased and pre-tokenized (using the [toktok tokenizer from NLTK](https://www.nltk.org/howto/tokenize.html)), so we can simply split them up by whitespace to get sequences of tokens.  To make your life a bit easier, we have removed sentences longer than 15 words. \n",
    "\n",
    "The next cell contains code that yields the sentences contained in a file as lists of strings:"
   ]
  },
  {
   "cell_type": "code",
   "execution_count": 4,
   "metadata": {
    "id": "Eay_PCwACus4",
    "tags": []
   },
   "outputs": [
    {
     "data": {
      "text/plain": [
       "['i', 'returned', 'to', 'japan', '.']"
      ]
     },
     "execution_count": 4,
     "metadata": {},
     "output_type": "execute_result"
    }
   ],
   "source": [
    "ENGLISH = 0\n",
    "SWEDISH = 1\n",
    "\n",
    "def sentences(filename, idx):\n",
    "    # Use idx=0 for English, idx=1 for Swedish\n",
    "    with open(filename, \"rt\", encoding=\"utf-8\") as source:\n",
    "        for line in source:\n",
    "            yield line.rstrip().split(\"\\t\")[idx].split()\n",
    "\n",
    "# Example usage\n",
    "next(sentences(\"en-sv-train.txt\", ENGLISH))"
   ]
  },
  {
   "cell_type": "markdown",
   "metadata": {
    "id": "Ypi63gGlCus5"
   },
   "source": [
    "## Part 1: Build the vocabularies"
   ]
  },
  {
   "cell_type": "markdown",
   "metadata": {
    "id": "REbT89KqCus5"
   },
   "source": [
    "Before we can feed them into any model, we first need to convert the text strings to integers. For this purpose, we'll create a **vocabulary** of tokens that are known to the model, one vocabulary for each language. We need four **special tokens (or \"pseudowords\")**:\n",
    "\n",
    "1. `<pad>` at index 0 for padding purposes\n",
    "2. `<unk>` at index 1 to represent unknown words\n",
    "3. `<bos>` at index 2 to mark the \"beginning of sequence\" in the decoder\n",
    "4. `<eos>` at index 3 to mark the \"end of sequence\" in the decoder\n",
    "\n",
    "The remaining items in the vocabulary should be made up of the **most frequent words** in the training data for the respective language."
   ]
  },
  {
   "cell_type": "markdown",
   "metadata": {
    "tags": []
   },
   "source": [
    "#### 🤔 Task 1: Write the function to build the vocabularies"
   ]
  },
  {
   "cell_type": "code",
   "execution_count": 5,
   "metadata": {
    "id": "R29hmyaRCus5",
    "tags": []
   },
   "outputs": [],
   "source": [
    "from collections import Counter\n",
    "\n",
    "def make_vocab(sentences, max_size):\n",
    "    \"\"\"Return a list of the `max_size` most frequent tokens in `sentences`.\"\"\"\n",
    "\n",
    "    # TODO\n",
    "    # 1. Count of how often each word occurs in the data\n",
    "    # 2. Sort the words by their frequency, in descending order\n",
    "    # 3. Make a list of the special tokens plus the most frequent words, up to a length of `max_size`.\n",
    "    # 4. Return the list\n",
    "    \n",
    "    if isinstance(sentences, str):\n",
    "        sentences = [sentences.split()]\n",
    "    words = []\n",
    "    for sentence in sentences:\n",
    "        for word in sentence:\n",
    "            words.append(word)\n",
    "    word_counts = Counter(words)\n",
    "    sorted_words = []\n",
    "    for word,count in word_counts.most_common():\n",
    "        sorted_words.append(word)\n",
    "    \n",
    "    added_words = ['<pad>', '<unk>', '<bos>', '<eos>']\n",
    "\n",
    "    count = max_size - len(added_words)\n",
    "\n",
    "    final_words = added_words + sorted_words[:count]\n",
    "    \n",
    "    return final_words"
   ]
  },
  {
   "cell_type": "markdown",
   "metadata": {
    "id": "Zmr7Oe9cCus7"
   },
   "source": [
    "With this function, we can construct vocabularies containing the 5,000 most frequent words as follows:"
   ]
  },
  {
   "cell_type": "code",
   "execution_count": 6,
   "metadata": {
    "id": "onyml-oDCus7",
    "tags": []
   },
   "outputs": [],
   "source": [
    "src_vocab = make_vocab(sentences('en-sv-train.txt', SWEDISH), 5000)\n",
    "tgt_vocab = make_vocab(sentences('en-sv-train.txt', ENGLISH), 5000)"
   ]
  },
  {
   "cell_type": "markdown",
   "metadata": {
    "id": "HX9T47dnCus8"
   },
   "source": [
    "#### 🤞 Test your code\n",
    "\n",
    "To test your code, check that each vocabulary contains 5,000 words, and includes the pseudowords at the right positions:"
   ]
  },
  {
   "cell_type": "code",
   "execution_count": 7,
   "metadata": {
    "id": "tZBil9ezCus8",
    "tags": [
     "solution"
    ]
   },
   "outputs": [
    {
     "name": "stdout",
     "output_type": "stream",
     "text": [
      "All good!\n"
     ]
    }
   ],
   "source": [
    "def test1():\n",
    "    assert len(src_vocab) == 5000\n",
    "    assert len(tgt_vocab) == 5000\n",
    "    assert src_vocab[:4] == ['<pad>', '<unk>', '<bos>', '<eos>']\n",
    "    assert tgt_vocab[:4] == ['<pad>', '<unk>', '<bos>', '<eos>']\n",
    "    print(\"All good!\")\n",
    "\n",
    "test1()"
   ]
  },
  {
   "cell_type": "markdown",
   "metadata": {},
   "source": [
    "### Wrap the vocabularies in StringLookup layers\n",
    "\n",
    "For mapping tokens to their vocabulary IDs, we can use Keras' `StringLookup` layer. The next cell constructs layers for both the source and target vocabulary."
   ]
  },
  {
   "cell_type": "code",
   "execution_count": 8,
   "metadata": {
    "tags": []
   },
   "outputs": [
    {
     "name": "stderr",
     "output_type": "stream",
     "text": [
      "2025-05-08 15:32:40.024263: E external/local_xla/xla/stream_executor/cuda/cuda_driver.cc:152] failed call to cuInit: INTERNAL: CUDA error: Failed call to cuInit: CUDA_ERROR_NO_DEVICE: no CUDA-capable device is detected\n"
     ]
    }
   ],
   "source": [
    "string_lookup_args = dict(output_mode=\"int\", mask_token=\"<pad>\", oov_token=\"<unk>\")\n",
    "src_lookup = layers.StringLookup(vocabulary=src_vocab, **string_lookup_args)\n",
    "tgt_lookup = layers.StringLookup(vocabulary=tgt_vocab, **string_lookup_args)"
   ]
  },
  {
   "cell_type": "markdown",
   "metadata": {},
   "source": [
    "The next cell gives an example how these `StringLookup` layers can be used. Note that the layers already return *tensors*."
   ]
  },
  {
   "cell_type": "code",
   "execution_count": 9,
   "metadata": {
    "tags": []
   },
   "outputs": [
    {
     "name": "stdout",
     "output_type": "stream",
     "text": [
      "tf.Tensor([   5 1005   11  530  188    4], shape=(6,), dtype=int64)\n"
     ]
    }
   ],
   "source": [
    "example = \"i returned to japan yesterday .\".split()\n",
    "print(tgt_lookup(example))"
   ]
  },
  {
   "cell_type": "markdown",
   "metadata": {},
   "source": [
    "#### 🤔 Task 2: Sanity-check that these numbers are correct\n",
    "\n",
    "Check your understanding of what's happening in the `StringLookup` layer by writing two lines of code:\n",
    "1. One that prints the token corresponding to the _second integer_ in the tensor above.\n",
    "2. One that prints the integer corresponding to the _second word_ (\"returned\") in the example above.\n",
    "\n",
    "Use `tgt_vocab` directly for that, not the lookup layer!"
   ]
  },
  {
   "cell_type": "code",
   "execution_count": 10,
   "metadata": {},
   "outputs": [
    {
     "name": "stdout",
     "output_type": "stream",
     "text": [
      "<unk>\n",
      "1005\n"
     ]
    }
   ],
   "source": [
    "#print(tgt_vocab[1])\n",
    "#word_index = tgt_vocab.index(\"returned\")\n",
    "#if(word_index.is_integer):\n",
    "#    print(word_index)\n",
    "#else:\n",
    "#    print(\"Word not found\")\n",
    "print(tgt_vocab[1])\n",
    "word_index = tgt_vocab.index(\"returned\")\n",
    "if(isinstance(word_index, int)):\n",
    "    print(word_index)\n",
    "else:\n",
    "    print(\"Word not found\")"
   ]
  },
  {
   "cell_type": "markdown",
   "metadata": {
    "id": "T2fQzgkPCus9"
   },
   "source": [
    "### Wrapping everything in data loaders"
   ]
  },
  {
   "cell_type": "markdown",
   "metadata": {
    "id": "9MF4JRJVCus9"
   },
   "source": [
    "The next cell defines a function that wraps our dataset in TensorFlow's [`tf.data.Dataset`](https://www.tensorflow.org/api_docs/python/tf/data/Dataset) API, which represents map-style datasets. The advantage of this is that it lets us use standard infrastructure related to the loading and automatic batching of data."
   ]
  },
  {
   "cell_type": "code",
   "execution_count": 11,
   "metadata": {
    "id": "TkFTb0LkCus9",
    "tags": []
   },
   "outputs": [],
   "source": [
    "def append_eos(tensor):\n",
    "    \"Helper function that appends '<eos>' to a sequence.\"\n",
    "    return tf.concat([tensor, tf.constant([\"<eos>\"], dtype=tf.string)], axis=0)\n",
    "\n",
    "def load_translation_dataset(src_lookup, tgt_lookup, filename):\n",
    "    # Build source dataset and convert with src_lookup\n",
    "    src_dataset = tf.data.Dataset.from_tensor_slices(\n",
    "        tf.ragged.constant(list(sentences(filename, SWEDISH)))\n",
    "    )\n",
    "    src_dataset = src_dataset.map(src_lookup)\n",
    "\n",
    "    # Build target dataset, append <eos> and convert with tgt_lookup\n",
    "    tgt_dataset = tf.data.Dataset.from_tensor_slices(\n",
    "        tf.ragged.constant(list(sentences(filename, ENGLISH)))\n",
    "    )\n",
    "    tgt_dataset = tgt_dataset.map(append_eos).map(tgt_lookup)\n",
    "    \n",
    "    # Zip them together\n",
    "    return tf.data.Dataset.zip((src_dataset, tgt_dataset))"
   ]
  },
  {
   "cell_type": "markdown",
   "metadata": {
    "id": "wnPlzxWrCus-"
   },
   "source": [
    "We load the training data:"
   ]
  },
  {
   "cell_type": "code",
   "execution_count": 12,
   "metadata": {
    "id": "t1tyWbfbCus-",
    "tags": []
   },
   "outputs": [],
   "source": [
    "train_dataset = load_translation_dataset(src_lookup, tgt_lookup, \"en-sv-train.txt\")"
   ]
  },
  {
   "cell_type": "markdown",
   "metadata": {
    "id": "BoUAW-GcCus_"
   },
   "source": [
    "The following function can be helpful for debugging. It extracts a single source–target pair of sentences from the specified *dataset* and converts it into batches of size&nbsp;1, which can be fed into the encoder–decoder model. This also illustrates how the `Dataset` API works:"
   ]
  },
  {
   "cell_type": "code",
   "execution_count": 13,
   "metadata": {
    "id": "DC2j_oZyCus_",
    "tags": []
   },
   "outputs": [],
   "source": [
    "def example(dataset, i):\n",
    "    if i > 0:\n",
    "        dataset = dataset.skip(i-1)\n",
    "    return list(dataset.take(1).batch(1))[0]"
   ]
  },
  {
   "cell_type": "code",
   "execution_count": 14,
   "metadata": {
    "id": "dYhTBym7Cus_",
    "tags": []
   },
   "outputs": [
    {
     "name": "stdout",
     "output_type": "stream",
     "text": [
      "tf.Tensor([[  6  10 245  15  20   7]], shape=(1, 6), dtype=int64)\n",
      "tf.Tensor([[ 29   9 477  55  28   8   3]], shape=(1, 7), dtype=int64)\n"
     ]
    }
   ],
   "source": [
    "x, y = example(train_dataset, 42)\n",
    "print(x)\n",
    "print(y)"
   ]
  },
  {
   "cell_type": "markdown",
   "metadata": {
    "id": "Iw62gfhdCutA"
   },
   "source": [
    "## Part 2: The encoder–decoder architecture"
   ]
  },
  {
   "cell_type": "markdown",
   "metadata": {
    "id": "nB280fFjCutA"
   },
   "source": [
    "In this section, you will implement the encoder–decoder architecture, including the extension of that architecture by an attention mechanism. The implementation consists of four parts: the encoder, the attention mechanism, the decoder, and a class that wraps the complete architecture."
   ]
  },
  {
   "cell_type": "markdown",
   "metadata": {
    "id": "XUFFRKwGCutA"
   },
   "source": [
    "### Part 2.1: Implement the encoder"
   ]
  },
  {
   "cell_type": "markdown",
   "metadata": {
    "id": "mKeHOZyxCutA"
   },
   "source": [
    "The encoder is a component that takes an input tensor of vocabulary IDs, like the `x` tensor from the example above, and performs the following steps:\n",
    "\n",
    "1. Look up **word embeddings** for each token in the sequence.\n",
    "2. Process them with a **bi-directional recurrent neural network**. This works with any type of RNN, but we will use **GRU (gated recurrent unit) layers** throughout this laboration.\n",
    "3. Feed the output through a linear layer. We also take the last hidden state of the forward GRU and the last hidden state of the backward GRU, concatenate them, and pass them through a linear layer. This produces a \"summary\" of the source sentence, which we will later feed into the decoder."
   ]
  },
  {
   "cell_type": "markdown",
   "metadata": {},
   "source": [
    "Let's implement the encoder by defining it as a **custom Keras layer.** For this, we have to define a class that subclasses from `keras.layers.Layer`, instantiate all required model weights and/or (sub)layers in the `__init__()` function, and uses them to perform the layer's computation in the `call()` function. Below is some skeleton code to get you started; you can also [read more about making custom layers in the Keras Docs](https://keras.io/guides/making_new_layers_and_models_via_subclassing/)."
   ]
  },
  {
   "cell_type": "markdown",
   "metadata": {},
   "source": [
    "#### 🤔 Task 3: Implement the encoder by completing the skeleton code below"
   ]
  },
  {
   "cell_type": "code",
   "execution_count": 15,
   "metadata": {
    "id": "klNT7vTPCutB",
    "tags": []
   },
   "outputs": [],
   "source": [
    "# class Encoder(layers.Layer):\n",
    "#     def __init__(self, num_words, embedding_dim=128, hidden_dim=256):\n",
    "#         super().__init__()\n",
    "#         # TODO: Add your code here that defines the required layers/weights\n",
    "#         self.embedding = ...\n",
    "#         self.rnn = ...\n",
    "#         self.linear = ...\n",
    "\n",
    "#     def call(self, inputs):\n",
    "#         # TODO\n",
    "#         # 1. Look up the embeddings for the source words\n",
    "#         # 2. Apply a bi-directional GRU over the source sequences\n",
    "#         # 3. Apply a linear transformation to the GRU's output\n",
    "#         # 4. Concatenate forward + backward hidden states and apply a linear transformation on them too\n",
    "#         raise NotImplementedError\n",
    "class Encoder(layers.Layer):\n",
    "    def __init__(self, num_words, embedding_dim=128, hidden_dim=256):\n",
    "        super().__init__()\n",
    "        # TODO: Add your code here that defines the required layers/weights\n",
    "        self.embedding = layers.Embedding(input_dim=num_words, output_dim=embedding_dim, mask_zero=True)\n",
    "        self.rnn = layers.Bidirectional(layers.GRU(hidden_dim, return_sequences=True, return_state=True))\n",
    "        self.linear = layers.Dense(hidden_dim)\n",
    "\n",
    "    def call(self, inputs):\n",
    "        # TODO\n",
    "        # 1. Look up the embeddings for the source words\n",
    "        embeddings = self.embedding(inputs)        \n",
    "        # 2. Apply a bi-directional GRU over the source sequences\n",
    "        results = self.rnn(embeddings)\n",
    "        output = results[0]\n",
    "        forward = results[1]\n",
    "        backward = results[2]\n",
    "        # 3. Apply a linear transformation to the GRU's output\n",
    "        linear_transformed = self.linear(output)\n",
    "        # 4. Concatenate forward + backward hidden states and apply a linear transformation on them too\n",
    "        state = tf.concat([forward, backward], axis=-1)\n",
    "        summary = self.linear(state)\n",
    "        return linear_transformed, summary"
   ]
  },
  {
   "cell_type": "markdown",
   "metadata": {
    "id": "Ut1QP_1hCutB"
   },
   "source": [
    "Your code must comply with the following specification:\n",
    "\n",
    "**__init__** (*num_words*, *embedding_dim* = 128, *hidden_dim* = 256)\n",
    "\n",
    "> Initialises the encoder. The encoder consists of an embedding layer that maps each of *num_words* words to an embedding vector of size *embedding_dim*, a bidirectional GRU that maps each embedding vector to a position-specific representation of size 2 × *hidden_dim*, and a final linear layer that projects these representations to new representations of size *hidden_dim*.\n",
    "\n",
    "**call** (*self*, *inputs*)\n",
    "\n",
    "> Takes a tensor *inputs* with source-language word ids and sends it through the encoder. The input tensor has shape (*batch_size*, *src_len*), where *src_len* is the length of the sentences in the batch. (We will make sure that all sentences in the same batch have the same length.) The method returns a pair of tensors (*output*, *hidden*), where *output* has shape (*batch_size*, *src_len*, *hidden_dim*), and *hidden* has shape (*batch_size*, *hidden_dim*)."
   ]
  },
  {
   "cell_type": "markdown",
   "metadata": {
    "id": "xybpq39KCutC"
   },
   "source": [
    "#### 🤞 Test your code\n",
    "\n",
    "To test your code, instantiate an encoder, feed it the first source sentence in the training data, and check that the tensors returned by the encoder have the expected shapes."
   ]
  },
  {
   "cell_type": "code",
   "execution_count": 16,
   "metadata": {
    "id": "LU4SIh0NCutC",
    "tags": [
     "solution"
    ]
   },
   "outputs": [
    {
     "name": "stdout",
     "output_type": "stream",
     "text": [
      "(1, 6, 256)\n",
      "(1, 256)\n"
     ]
    },
    {
     "name": "stderr",
     "output_type": "stream",
     "text": [
      "2025-05-08 15:33:10.607159: E tensorflow/core/util/util.cc:131] oneDNN supports DT_BOOL only on platforms with AVX-512. Falling back to the default Eigen-based implementation if present.\n"
     ]
    }
   ],
   "source": [
    "def test21():\n",
    "    src, tgt = example(train_dataset, 42)\n",
    "    encoder = Encoder(src_lookup.vocabulary_size())\n",
    "    output, hidden = encoder(src)\n",
    "    print(output.shape)  # should be (batch_size, src_len, hidden_dim)\n",
    "    print(hidden.shape)  # should be (batch_size, hidden_dim)\n",
    "\n",
    "test21()"
   ]
  },
  {
   "cell_type": "markdown",
   "metadata": {
    "id": "LnD4At5uCutD"
   },
   "source": [
    "### Part 2.2: Implement the attention mechanism"
   ]
  },
  {
   "cell_type": "markdown",
   "metadata": {
    "id": "twmxl69tCutD"
   },
   "source": [
    "Your next task is to implement the attention mechanism. Recall that the purpose of this mechanism is to inform the decoder when generating the translation of the next word. For this, attention has access to the previous hidden state of the decoder, as well as the complete output of the encoder. It returns the attention-weighted sum of the encoder output, the so-called *context* vector. For later usage, we also return the attention weights.\n",
    "\n",
    "As mentioned in the lecture, attention can be implemented in various ways. One very simple implementation is *uniform attention*, which assigns equal weight to each position-specific representation in the output of the encoder, and completely ignores the hidden state of the decoder. This mechanism is implemented in the cell below:"
   ]
  },
  {
   "cell_type": "code",
   "execution_count": 17,
   "metadata": {
    "id": "VK4LsCUfCutD",
    "tags": []
   },
   "outputs": [],
   "source": [
    "class UniformAttention(layers.Layer):\n",
    "    def __init__(self):\n",
    "        super().__init__()\n",
    "        self.supports_masking = True\n",
    "\n",
    "    def call(self, decoder_hidden, encoder_output, mask=None):\n",
    "        # Set all attention scores to the same constant value (0). After\n",
    "        # the softmax, we will have uniform weights.\n",
    "        scores = tf.zeros_like(encoder_output[:, :, -1])\n",
    "        \n",
    "        # Mask out the attention scores for the padding tokens. We set\n",
    "        # them to -inf. After the softmax, we will have 0.\n",
    "        if mask is not None:\n",
    "            masked_value = -float('inf') * tf.ones_like(scores)\n",
    "            scores = tf.where(mask, scores, masked_value)\n",
    "        \n",
    "        # Convert scores into weights\n",
    "        alpha = tf.nn.softmax(scores, axis=1)\n",
    "        \n",
    "        # The context is the alpha-weighted sum of the encoder outputs.\n",
    "        context = tf.linalg.matmul(tf.expand_dims(alpha, axis=1), encoder_output)\n",
    "        context = tf.squeeze(context, axis=1)\n",
    "        \n",
    "        return alpha, context"
   ]
  },
  {
   "cell_type": "markdown",
   "metadata": {
    "id": "noYs0hSHCutE"
   },
   "source": [
    "One technical detail in this code is our use of *mask* to compute attention weights only for the ‘real’ tokens in the source sentences, but not for the padding tokens that we introduce to bring all sentences in a batch to the same length.\n",
    "\n",
    "Your task now is to implement the attention mechanism from the paper by [Bahdanau et al. (2015)](https://arxiv.org/abs/1409.0473). The relevant equation is in Section&nbsp;A.1.2:\n",
    "\n",
    "$$\n",
    "a(s_{i-1}, h_j) = v^{\\top} \\tanh(W s_{i-1} + U h_j)\n",
    "$$\n",
    "\n",
    "This equation specifies how to compute the attention score (a scalar) for the previous hidden state of the decoder, denoted by $s_{i-1}$, and the $j$-th position-specific representation in the output of the encoder, denoted by $h_j$. The equation refers to three parameters: a vector $v$ and $W$ and $U$. In PyTorch, these parameters can be represented in terms of (bias-free) linear layers that are trained along with the other parameters of the model.\n",
    "\n",
    "Here is the skeleton code for this problem. As you can see, your specific task is to initialise the required parameters and to compute the attention scores (*scores*); the rest of the code is the same as for the uniform attention."
   ]
  },
  {
   "cell_type": "markdown",
   "metadata": {},
   "source": [
    "#### 🤔 Task 4: Implement Bahdanau attention by completing the skeleton code below"
   ]
  },
  {
   "cell_type": "code",
   "execution_count": 18,
   "metadata": {
    "id": "RyclW2osCutE",
    "tags": []
   },
   "outputs": [],
   "source": [
    "# class BahdanauAttention(layers.Layer):\n",
    "#     def __init__(self, hidden_dim=256):\n",
    "#         super().__init__()\n",
    "#         self.supports_masking = True\n",
    "#         # TODO: Add your code here that defines the required layers/weights\n",
    "#         self.w = ...\n",
    "#         self.u = ...\n",
    "#         self.v = ...\n",
    "\n",
    "#     def call(self, decoder_hidden, encoder_output, mask=None):\n",
    "#         # TODO: Replace the next line with your own code that computes the attention scores\n",
    "#         scores = tf.zeros_like(encoder_output[:, :, -1])\n",
    "\n",
    "#         # ... The rest of the code is as in UniformAttention — NO NEED TO MODIFY BELOW THIS LINE!\n",
    "\n",
    "#         # Mask out the attention scores for the padding tokens. We set\n",
    "#         # them to -inf. After the softmax, we will have 0.\n",
    "#         if mask is not None:\n",
    "#             masked_value = -float('inf') * tf.ones_like(scores)\n",
    "#             scores = tf.where(mask, scores, masked_value)\n",
    "        \n",
    "#         # Convert scores into weights\n",
    "#         alpha = tf.nn.softmax(scores, axis=1)\n",
    "        \n",
    "#         # The context is the alpha-weighted sum of the encoder outputs.\n",
    "#         context = tf.linalg.matmul(tf.expand_dims(alpha, axis=1), encoder_output)\n",
    "#         context = tf.squeeze(context, axis=1)\n",
    "        \n",
    "#         return alpha, context\n",
    "class BahdanauAttention(layers.Layer):\n",
    "    def __init__(self, hidden_dim=256):\n",
    "        super().__init__()\n",
    "        self.supports_masking = True\n",
    "        # TODO: Add your code here that defines the required layers/weights\n",
    "        self.w = layers.Dense(hidden_dim, use_bias=False)  # For encoder outputs\n",
    "        self.u = layers.Dense(hidden_dim, use_bias=False)\n",
    "        self.v = layers.Dense(1, use_bias=False)\n",
    "\n",
    "    def call(self, decoder_hidden, encoder_output, mask=None):\n",
    "        # TODO: Replace the next line with your own code that computes the attention scores\n",
    "        hidden_decoder = tf.expand_dims(decoder_hidden, axis=1)\n",
    "        encoder = self.w(encoder_output)\n",
    "        decoder = self.u(hidden_decoder)\n",
    "        res = tf.nn.tanh(encoder + decoder)\n",
    "        scores = tf.squeeze(self.v(res), axis=-1)\n",
    "\n",
    "        # ... The rest of the code is as in UniformAttention — NO NEED TO MODIFY BELOW THIS LINE!\n",
    "\n",
    "        # Mask out the attention scores for the padding tokens. We set\n",
    "        # them to -inf. After the softmax, we will have 0.\n",
    "        if mask is not None:\n",
    "            masked_value = -float('inf') * tf.ones_like(scores)\n",
    "            scores = tf.where(mask, scores, masked_value)\n",
    "        \n",
    "        # Convert scores into weights\n",
    "        alpha = tf.nn.softmax(scores, axis=1)\n",
    "        \n",
    "        # The context is the alpha-weighted sum of the encoder outputs.\n",
    "        context = tf.linalg.matmul(tf.expand_dims(alpha, axis=1), encoder_output)\n",
    "        context = tf.squeeze(context, axis=1)\n",
    "        \n",
    "        return alpha, context"
   ]
  },
  {
   "cell_type": "markdown",
   "metadata": {
    "id": "cTB0RPfDCutF"
   },
   "source": [
    "Your code must comply with the following specification:\n",
    "\n",
    "**call** (*decoder_hidden*, *encoder_output*, *mask*)\n",
    "\n",
    "> Takes the previous hidden state of the decoder (*decoder_hidden*) and the encoder output (*encoder_output*) and returns a pair (*alpha*, *context*) where *context* is the context as computed as in [Bahdanau et al. (2015)](https://arxiv.org/abs/1409.0473), and *alpha* are the corresponding attention weights. The hidden state has shape (*batch_size*, *hidden_dim*), the encoder output has shape (*batch_size*, *src_len*, *hidden_dim*), the context has shape (*batch_size*, *hidden_dim*), and the attention weights have shape (*batch_size*, *src_len*).\n",
    "\n",
    "#### 💡 Hints on the implementation\n",
    "\n",
    "You may need a few more \"low-level\" TensorFlow functions to implement this part, concretely:\n",
    "    \n",
    "- `tf.expand_dims()` and `tf.squeeze()` to add/remove a dimension from a tensor. This is because some tensors have a \"timestep\" dimension while others (e.g. the hidden state of the decoder) don't.\n",
    "- `tf.nn.tanh()` to compute the $\\tanh$ function on a tensor."
   ]
  },
  {
   "cell_type": "markdown",
   "metadata": {
    "id": "OxNwwlmuCutF"
   },
   "source": [
    "#### 🤞 Test your code\n",
    "\n",
    "To test your code, extend your test from Task 3: Feed the output of your encoder into your attention class. As the previous hidden state of the decoder, you can use the hidden state returned by the encoder. Later, you don't need to pass the mask explicitly (Keras will do this automatically), but for testing purposes, you can obtain the mask from a layer's output via `output._keras_mask`.\n",
    "\n",
    "Check that the context tensor and the attention weights returned by the attention class have the expected shapes."
   ]
  },
  {
   "cell_type": "code",
   "execution_count": 19,
   "metadata": {
    "id": "ZUqLpHXiCutG",
    "tags": [
     "solution"
    ]
   },
   "outputs": [
    {
     "name": "stdout",
     "output_type": "stream",
     "text": [
      "(1, 6)\n",
      "(1, 256)\n"
     ]
    }
   ],
   "source": [
    "def test22():\n",
    "    src, tgt = example(train_dataset, 42)\n",
    "    encoder = Encoder(src_lookup.vocabulary_size())\n",
    "    output, hidden = encoder(src)\n",
    "    attention = BahdanauAttention()\n",
    "    alpha, context = attention(hidden, output, mask=output._keras_mask)\n",
    "    print(alpha.shape)    # should be (batch_size, src_len)\n",
    "    print(context.shape)  # should be (batch_size, hidden_dim)\n",
    "\n",
    "test22()"
   ]
  },
  {
   "cell_type": "markdown",
   "metadata": {
    "id": "fB2A4Qa1CutG"
   },
   "source": [
    "### Part 2.3: Implement the decoder"
   ]
  },
  {
   "cell_type": "markdown",
   "metadata": {
    "id": "AO_4A4XXCutH"
   },
   "source": [
    "Now you are ready to implement the decoder. Like the encoder, the decoder is based on a GRU; but this time we use a unidirectional network, as we generate the target sentences left-to-right.\n",
    "\n",
    "**⚠️ We expect that solving this problem will take you the longest time in this lab.**\n",
    "\n",
    "Because the decoder is an autoregressive model, we need to unroll the GRU \"manually\": At each position, we take the previous hidden state as well as the new input, and apply the GRU for one step. The initial hidden state comes from the encoder. The new input is the embedding of the previous word, concatenated with the context vector from the attention model. To produce the final output, we take the output of the GRU, concatenate the embedding vector and the context vector (residual connection), and feed the result into a linear layer. Here is a graphical representation:\n",
    "\n",
    "<img src=\"https://gitlab.liu.se/nlp/nlp-course/-/raw/master/labs/l3/decoder.svg\" width=\"50%\" alt=\"Decoder architecture\"/>\n",
    "\n",
    "We need to implement this manual unrolling for two very similar tasks: When *training*, both the inputs to and the target outputs of the GRU come from the training data. When *decoding*, the outputs of the GRU are used to generate new target-side words, and these words become the inputs to the next step of the unrolling. **We have already implemented the `call` method that handles both these two different modes of usage — you don't need to modify this.**"
   ]
  },
  {
   "cell_type": "markdown",
   "metadata": {},
   "source": [
    "#### 🤔 Task 5: Implement the `step` method that takes a single step with the GRU\n",
    "\n",
    "You will also need to add any necessary layers/weights that you use in the `__init__` function."
   ]
  },
  {
   "cell_type": "code",
   "execution_count": 20,
   "metadata": {
    "id": "xBDjsJ-1CutH",
    "tags": []
   },
   "outputs": [],
   "source": [
    "# class Decoder(layers.Layer):\n",
    "#     def __init__(self, trg_lookup, attention, embedding_dim=128, hidden_dim=256, max_len=16):\n",
    "#         super().__init__()\n",
    "#         num_words = trg_lookup.vocabulary_size()\n",
    "#         self.embedding = layers.Embedding(num_words, embedding_dim, mask_zero=True)\n",
    "#         self.bos_index = trg_lookup([\"<bos>\"]).numpy()\n",
    "#         self.max_len = max_len\n",
    "#         # TODO: Add your code here that defines the required layers/weights\n",
    "#         self.attention = ...\n",
    "#         self.rnn_cell = ...\n",
    "#         self.linear = ...\n",
    "\n",
    "#     def call(self, encoder_output, initial_state, targets=None, training=False, mask=None):\n",
    "#         # YOU WON'T NEED TO MODIFY ANYTHING IN THIS FUNCTION.\n",
    "\n",
    "#         if training:\n",
    "#             assert targets is not None\n",
    "\n",
    "#         # Initialise the hidden state from `initial_state`\n",
    "#         state = initial_state\n",
    "        \n",
    "#         # Initialise the decoder input with the `<bos>` symbol\n",
    "#         next_input = self.bos_index * tf.ones_like(initial_state, dtype=tf.int64)\n",
    "#         next_input = next_input[:, 0]\n",
    "        \n",
    "#         # Initialise the list of outputs and attention weights\n",
    "#         outputs = tf.TensorArray(\n",
    "#             tf.float32,\n",
    "#             size=0 if training else self.max_len,\n",
    "#             dynamic_size=training,\n",
    "#         )\n",
    "#         alphas = tf.TensorArray(\n",
    "#             tf.float32,\n",
    "#             size=0 if training else self.max_len,\n",
    "#             dynamic_size=training,\n",
    "#         )\n",
    "#         inputs = tf.TensorArray(\n",
    "#             tf.int64,\n",
    "#             size=0 if training else self.max_len,\n",
    "#             dynamic_size=training,\n",
    "#         )\n",
    "\n",
    "#         # In training mode, we iterate over the length of the target sentences,\n",
    "#         # otherwise we iterate until `self.max_len` is reached\n",
    "#         max_len = tf.shape(targets)[1] if training else self.max_len\n",
    "        \n",
    "#         for i in range(max_len):\n",
    "#             # In training mode, we feed the correct (gold) predictions as the next input\n",
    "#             if training and i > 0:\n",
    "#                 next_input = targets[:, i-1]\n",
    "            \n",
    "#             # Get the embedding for the previous word\n",
    "#             prev_embed = self.embedding(next_input)\n",
    "            \n",
    "#             # Take one step with the RNN\n",
    "#             step_output, state, alpha = self.step(encoder_output, state, prev_embed, mask=mask)\n",
    "            \n",
    "#             # Update the list of generated words and attention weights\n",
    "#             outputs = outputs.write(i, step_output)\n",
    "#             alphas = alphas.write(i, alpha)\n",
    "#             inputs = inputs.write(i, next_input)\n",
    "\n",
    "#             # Set the prediction with highest probability as the input for the next timestep\n",
    "#             if not training:\n",
    "#                 next_input = tf.math.argmax(step_output, axis=-1)\n",
    "\n",
    "#         # Lists of outputs and attention weights are [tgt_len, batch_size, *],\n",
    "#         # so we transpose them to have the batch dimension in first place again.\n",
    "#         outputs = tf.transpose(outputs.stack(), perm=[1,0,2])\n",
    "#         alphas = tf.transpose(alphas.stack(), perm=[1,0,2])\n",
    "#         inputs = tf.transpose(inputs.stack(), perm=[1,0])\n",
    "#         outputs._keras_mask = (inputs != 0)\n",
    "        \n",
    "#         return outputs, alphas\n",
    "    \n",
    "#     def step(self, encoder_output, hidden_state, prev_embed, mask=None):\n",
    "#         # TODO: Replace the next line with your own code; this should follow the illustration above.\n",
    "#         # 1. Get the attention weights and context vector\n",
    "#         alpha, context = ...\n",
    "#         # 2. Concatenate the inputs for the GRU\n",
    "#         rnn_input = ...\n",
    "#         # 3. Take one step with the GRU cell\n",
    "#         rnn_output, hidden_state = ...\n",
    "#         # 4. Concatenate the respective tensors to produce the final output\n",
    "#         output = ...\n",
    "        \n",
    "#         return output, hidden_state, alpha\n",
    "class Decoder(layers.Layer):\n",
    "    def __init__(self, trg_lookup, attention, embedding_dim=128, hidden_dim=256, max_len=16):\n",
    "        super().__init__()\n",
    "        num_words = trg_lookup.vocabulary_size()\n",
    "        self.embedding = layers.Embedding(num_words, embedding_dim, mask_zero=True)\n",
    "        self.bos_index = trg_lookup([\"<bos>\"]).numpy()\n",
    "        self.max_len = max_len\n",
    "        # TODO: Add your code here that defines the required layers/weights\n",
    "        self.attention = attention\n",
    "        self.rnn_cell = layers.GRUCell(hidden_dim)\n",
    "        self.linear = layers.Dense(num_words)\n",
    "\n",
    "    def call(self, encoder_output, initial_state, targets=None, training=False, mask=None):\n",
    "        # YOU WON'T NEED TO MODIFY ANYTHING IN THIS FUNCTION.\n",
    "\n",
    "        if training:\n",
    "            assert targets is not None\n",
    "\n",
    "        # Initialise the hidden state from `initial_state`\n",
    "        state = initial_state\n",
    "        \n",
    "        # Initialise the decoder input with the `<bos>` symbol\n",
    "        next_input = self.bos_index * tf.ones_like(initial_state, dtype=tf.int64)\n",
    "        next_input = next_input[:, 0]\n",
    "        \n",
    "        # Initialise the list of outputs and attention weights\n",
    "        outputs = tf.TensorArray(\n",
    "            tf.float32,\n",
    "            size=0 if training else self.max_len,\n",
    "            dynamic_size=training,\n",
    "        )\n",
    "        alphas = tf.TensorArray(\n",
    "            tf.float32,\n",
    "            size=0 if training else self.max_len,\n",
    "            dynamic_size=training,\n",
    "        )\n",
    "        inputs = tf.TensorArray(\n",
    "            tf.int64,\n",
    "            size=0 if training else self.max_len,\n",
    "            dynamic_size=training,\n",
    "        )\n",
    "\n",
    "        # In training mode, we iterate over the length of the target sentences,\n",
    "        # otherwise we iterate until `self.max_len` is reached\n",
    "        max_len = tf.shape(targets)[1] if training else self.max_len\n",
    "        \n",
    "        for i in range(max_len):\n",
    "            # In training mode, we feed the correct (gold) predictions as the next input\n",
    "            if training and i > 0:\n",
    "                next_input = targets[:, i-1]\n",
    "            \n",
    "            # Get the embedding for the previous word\n",
    "            prev_embed = self.embedding(next_input)\n",
    "            \n",
    "            # Take one step with the RNN\n",
    "            step_output, state, alpha = self.step(encoder_output, state, prev_embed, mask=mask)\n",
    "            \n",
    "            # Update the list of generated words and attention weights\n",
    "            outputs = outputs.write(i, step_output)\n",
    "            alphas = alphas.write(i, alpha)\n",
    "            inputs = inputs.write(i, next_input)\n",
    "\n",
    "            # Set the prediction with highest probability as the input for the next timestep\n",
    "            if not training:\n",
    "                next_input = tf.math.argmax(step_output, axis=-1)\n",
    "\n",
    "        # Lists of outputs and attention weights are [tgt_len, batch_size, *],\n",
    "        # so we transpose them to have the batch dimension in first place again.\n",
    "        outputs = tf.transpose(outputs.stack(), perm=[1,0,2])\n",
    "        alphas = tf.transpose(alphas.stack(), perm=[1,0,2])\n",
    "        inputs = tf.transpose(inputs.stack(), perm=[1,0])\n",
    "        outputs._keras_mask = (inputs != 0)\n",
    "        \n",
    "        return outputs, alphas\n",
    "    \n",
    "    def step(self, encoder_output, hidden_state, prev_embed, mask=None):\n",
    "        # TODO: Replace the next line with your own code; this should follow the illustration above.\n",
    "        # 1. Get the attention weights and context vector\n",
    "        alpha, context = self.attention(hidden_state, encoder_output, mask=encoder_output._keras_mask)\n",
    "        # 2. Concatenate the inputs for the GRU\n",
    "        rnn_input =  tf.concat([prev_embed, context], axis=-1)\n",
    "        # 3. Take one step with the GRU cell\n",
    "        rnn_output, hidden_state = self.rnn_cell(rnn_input, hidden_state)\n",
    "        # 4. Concatenate the respective tensors to produce the final output\n",
    "        output = self.linear(tf.concat([rnn_output, rnn_input], axis=-1))\n",
    "        \n",
    "        return output, hidden_state, alpha"
   ]
  },
  {
   "cell_type": "markdown",
   "metadata": {
    "id": "ej2-lzyVCutH"
   },
   "source": [
    "Your implementation should comply with the following specification:\n",
    "\n",
    "**step** (*self*, *encoder_output*, *hidden*, *prev_embed*, *mask*)\n",
    "\n",
    "> Performs a single step in the manual unrolling of the decoder GRU. This takes the output of the encoder (*encoder_output*), the previous hidden state of the decoder (*hidden*), the embedding vector of the previous word (*prev_embed*), and the source mask as described in Problem&nbsp;2.2 (*mask*), and computes the output as described above.\n",
    ">\n",
    "> The shape of *encoder_output* is (*batch_size*, *src_len*, *hidden_dim*); the shape of *hidden* is (*batch_size*, *hidden_dim*); the shape of *src_mask* is (*batch_size*, *src_len*); and the shape of *prev_embed* is (*batch_size*, *embedding_dim*).\n",
    ">\n",
    "> The method returns a triple of tensors (*output*, *hidden*, *alpha*) where *output* is the position-specific output of the GRU, of shape (*batch_size*, *num_words*); *hidden* is the new hidden state, of shape (*batch_size*, *hidden_dim*); and *alpha* are the attention weights that were used to compute the *output*, of shape (*batch_size*, *src_len*).\n",
    "\n",
    "#### 💡 Hints on the implementation\n",
    "\n",
    "**GRU vs. GRUCell.** In Keras, an RNN layer like `GRU` is used to process an entire sequence. A single *time-step* of a sequence is handled by a [`GRUCell`](https://www.tensorflow.org/api_docs/python/tf/keras/layers/GRUCell) instead. You can think of a `GRU` layer as functionally equivalent to a for-loop around a `GRUCell`. Since we want to perform the RNN steps individually for this model, you should use a [`GRUCell`](https://www.tensorflow.org/api_docs/python/tf/keras/layers/GRUCell) instead of a `GRU` layer here."
   ]
  },
  {
   "cell_type": "markdown",
   "metadata": {
    "id": "cFvNiX-YCutI"
   },
   "source": [
    "#### 🤞 Test your code\n",
    "\n",
    "To test your code, extend your test from the previous problems, and simulate a complete forward pass of the encoder–decoder architecture on the example sentence. Check the shapes of the resulting tensors."
   ]
  },
  {
   "cell_type": "code",
   "execution_count": 21,
   "metadata": {
    "id": "65lLG-bBCutI",
    "tags": [
     "solution"
    ]
   },
   "outputs": [
    {
     "name": "stdout",
     "output_type": "stream",
     "text": [
      "(4, 16, 5000)\n",
      "(4, 16, 5)\n",
      "(4, 8, 5000)\n"
     ]
    }
   ],
   "source": [
    "def test23():\n",
    "    src, tgt = list(train_dataset.take(4).padded_batch(4))[0]\n",
    "    encoder = Encoder(src_lookup.vocabulary_size())\n",
    "    encoder_output, hidden = encoder(src)\n",
    "    attention = BahdanauAttention()\n",
    "    decoder = Decoder(tgt_lookup, attention)\n",
    "    decoded, alphas = decoder(encoder_output, hidden)\n",
    "    print(decoded.shape)  # should be (batch_size, max_len, vocabulary_size)\n",
    "    print(alphas.shape)   # should be (batch_size, max_len, src_len)\n",
    "    decoded, _ = decoder(encoder_output, hidden, targets=tgt, training=True)\n",
    "    print(decoded.shape)  # should be (batch_size, tgt_len, vocabulary_size)\n",
    "\n",
    "test23()"
   ]
  },
  {
   "cell_type": "markdown",
   "metadata": {
    "id": "70yHTFS9CutJ"
   },
   "source": [
    "### Encoder–Decoder wrapper class"
   ]
  },
  {
   "cell_type": "markdown",
   "metadata": {
    "id": "DeKfvES5CutJ"
   },
   "source": [
    "The last part of the implementation is a class that wraps the encoder and the decoder as a single model.  We also implement a custom `train_step` function so that the gold targets will get passed to the decoder during training, and a custom `test_step` function to make sure the decoded sequences and the gold sequences are padded to the same length before computing losses and evaluation metrics."
   ]
  },
  {
   "cell_type": "code",
   "execution_count": 22,
   "metadata": {
    "id": "lUjIGniZCutJ",
    "tags": []
   },
   "outputs": [],
   "source": [
    "class EncoderDecoder(keras.Model):\n",
    "    def __init__(self, src_lookup, tgt_lookup, embedding_dim=128, hidden_dim=256, max_len=16, **kwargs):\n",
    "        super().__init__(**kwargs)\n",
    "        self.encoder = Encoder(\n",
    "            src_lookup.vocabulary_size(),\n",
    "            embedding_dim=embedding_dim,\n",
    "            hidden_dim=hidden_dim\n",
    "        )\n",
    "        self.decoder = Decoder(\n",
    "            tgt_lookup,\n",
    "            BahdanauAttention(hidden_dim=hidden_dim),\n",
    "            embedding_dim=embedding_dim,\n",
    "            hidden_dim=hidden_dim,\n",
    "            max_len=max_len,\n",
    "        )\n",
    "    \n",
    "    def call(self, inputs, training=False, targets=None):\n",
    "        x_out, x_hidden = self.encoder(inputs, training=training)\n",
    "        outputs, alphas = self.decoder(x_out, x_hidden, training=training, targets=targets)\n",
    "        if training:\n",
    "            return outputs\n",
    "        else:\n",
    "            return outputs, alphas\n",
    "    \n",
    "    # Following <https://keras.io/guides/customizing_what_happens_in_fit/>\n",
    "    def train_step(self, data):\n",
    "        x, y = data\n",
    "        \n",
    "        with tf.GradientTape() as tape:\n",
    "            # Here we supply \"targets\" so that the decoder has access to it\n",
    "            y_pred = self(x, training=True, targets=y)\n",
    "            loss = self.compiled_loss(y, y_pred, regularization_losses=self.losses)\n",
    "        \n",
    "        trainable_vars = self.trainable_variables\n",
    "        gradients = tape.gradient(loss, trainable_vars)\n",
    "        self.optimizer.apply_gradients(zip(gradients, trainable_vars))\n",
    "        self.compiled_metrics.update_state(y, y_pred)\n",
    "        return {m.name: m.result() for m in self.metrics}\n",
    "    \n",
    "    def test_step(self, data):\n",
    "        x, y = data\n",
    "        y_pred, _alphas = self(x, training=False)\n",
    "\n",
    "        # Pad sequences to the same number of time-steps\n",
    "        max_len = tf.math.maximum(tf.shape(y)[1], tf.shape(y_pred)[1])\n",
    "        y_pad = [[0, 0], [0, max_len - tf.shape(y)[1]]]\n",
    "        y = tf.pad(y, y_pad)\n",
    "        y_pred_pad = [[0, 0], [0, max_len - tf.shape(y_pred)[1]], [0, 0]]\n",
    "        y_pred = tf.pad(y_pred, y_pred_pad)\n",
    "            \n",
    "        self.compute_loss(x, y, y_pred, None)\n",
    "        return self.compute_metrics(x, y, y_pred, None)"
   ]
  },
  {
   "cell_type": "markdown",
   "metadata": {
    "id": "u3uW3TKACutK"
   },
   "source": [
    "#### 🤞 Test your code\n",
    "\n",
    "As a final test, instantiate an encoder–decoder model and use it to decode the example sentence. Check the shapes of the resulting tensors."
   ]
  },
  {
   "cell_type": "code",
   "execution_count": 23,
   "metadata": {
    "id": "oO6zONDwCutK",
    "tags": [
     "solution"
    ]
   },
   "outputs": [
    {
     "name": "stdout",
     "output_type": "stream",
     "text": [
      "(1, 16, 5000)\n",
      "(1, 16, 6)\n"
     ]
    }
   ],
   "source": [
    "def test24():\n",
    "    src, tgt = example(train_dataset, 42)\n",
    "    encoder_decoder = EncoderDecoder(src_lookup, tgt_lookup)\n",
    "    outputs, alphas = encoder_decoder(src)\n",
    "    print(outputs.shape)  # should be (batch_size, max_len, vocabulary_size)\n",
    "    print(alphas.shape)   # should be (batch_size, max_len, src_len)\n",
    "\n",
    "test24()"
   ]
  },
  {
   "cell_type": "markdown",
   "metadata": {
    "id": "laK9bbq8CutL"
   },
   "source": [
    "## Part 3: Train a translator"
   ]
  },
  {
   "cell_type": "markdown",
   "metadata": {
    "id": "Q68aWc_2CutL"
   },
   "source": [
    "We now have all the pieces to build and train a complete translation system."
   ]
  },
  {
   "cell_type": "markdown",
   "metadata": {
    "id": "w5MYw2PJCutL"
   },
   "source": [
    "### Translator class\n",
    "\n",
    "We first define a class `Translator` that initialises an encoder–decoder model and uses it to translate sentences."
   ]
  },
  {
   "cell_type": "code",
   "execution_count": 24,
   "metadata": {
    "id": "Evi-J7BfCutM",
    "tags": []
   },
   "outputs": [],
   "source": [
    "class Translator:\n",
    "    def __init__(self, src_lookup, tgt_lookup, batch_size=32, **kwargs):\n",
    "        self.src_lookup = src_lookup\n",
    "        self.tgt_lookup = tgt_lookup\n",
    "        self.model = EncoderDecoder(src_lookup, tgt_lookup, **kwargs)\n",
    "        self.tgt_vocab = tgt_lookup.get_vocabulary()\n",
    "        self.eos_index = self.tgt_vocab.index(\"<eos>\")\n",
    "        self.batch_size = batch_size\n",
    "\n",
    "    def compile(self, *args, **kwargs):\n",
    "        return self.model.compile(*args, **kwargs)\n",
    "\n",
    "    def fit(self, *args, **kwargs):\n",
    "        return self.model.fit(*args, **kwargs)\n",
    "\n",
    "    def translate(self, sentences, return_alphas=False):\n",
    "        \"\"\"This function takes sentences and returns their translation as a string.\n",
    "        \n",
    "        `sentences` can be either:\n",
    "          - A tf.data.Dataset object\n",
    "          - A list of strings\n",
    "        \"\"\"\n",
    "        if isinstance(sentences, tf.data.Dataset):\n",
    "            inputs = sentences\n",
    "        elif isinstance(sentences, (list, tuple)):\n",
    "            inputs = (\n",
    "                tf.data.Dataset.from_tensor_slices(\n",
    "                    tf.ragged.constant([x.split() for x in sentences])\n",
    "                )\n",
    "                .map(self.src_lookup)\n",
    "                .padded_batch(min(self.batch_size, len(sentences)))\n",
    "            )\n",
    "        else:\n",
    "            raise ValueError(f\"'sentences' should be either a tf.Dataset or a list of strings; got: {type(sentences)}\")\n",
    "\n",
    "        outputs, alphas = self.model.predict(inputs, verbose=0)\n",
    "        outputs = tf.math.argmax(outputs, axis=-1).numpy().tolist()\n",
    "        try:\n",
    "            alphas = alphas.numpy().tolist()\n",
    "        except AttributeError:\n",
    "            alphas = alphas.tolist()\n",
    "        generated = []\n",
    "\n",
    "        for y_pred, alpha in zip(outputs, alphas):\n",
    "            try:\n",
    "                eos_idx = y_pred.index(self.eos_index)\n",
    "                del y_pred[eos_idx:]\n",
    "                del alpha[eos_idx:]\n",
    "            except ValueError:\n",
    "                pass\n",
    "            tokens = [self.tgt_vocab[idx] for idx in y_pred if idx > 0]\n",
    "            tokens = \" \".join(tokens)\n",
    "            if return_alphas:\n",
    "                generated.append((tokens, alpha))\n",
    "            else:\n",
    "                generated.append(tokens)\n",
    "\n",
    "        return generated\n",
    "        \n",
    "    def translate_with_attention(self, sentences):\n",
    "        return self.translate(sentences, return_alphas=True)"
   ]
  },
  {
   "cell_type": "markdown",
   "metadata": {
    "id": "2660iyt-CutN"
   },
   "source": [
    "The code below shows how this class is supposed to be used (its output will be nonsensical right now, of course, since the model hasn't been trained yet):"
   ]
  },
  {
   "cell_type": "code",
   "execution_count": 25,
   "metadata": {
    "id": "NFiJLKRXCutN",
    "tags": []
   },
   "outputs": [
    {
     "data": {
      "text/plain": [
       "['joking flight fastest tattoo childbirth balloons steak detest corrected yen averted hay islander worker authors balance',\n",
       " 'appeared numbers newer sincere suspicion frightened. buttons injury overreact changes detailed aren paratrooper boil hesitated bet']"
      ]
     },
     "execution_count": 25,
     "metadata": {},
     "output_type": "execute_result"
    }
   ],
   "source": [
    "translator = Translator(src_lookup, tgt_lookup)\n",
    "# Alternative \"mini\" version of the model for testing:\n",
    "#translator = Translator(src_lookup, tgt_lookup, embedding_dim=32, hidden_dim=64, batch_size=16, max_len=8)\n",
    "translator.translate(['stäng av vattnet .', 'jag älskar friterade bananer .'])"
   ]
  },
  {
   "cell_type": "markdown",
   "metadata": {
    "id": "2cFT9atlCutO"
   },
   "source": [
    "### Evaluation function\n",
    "\n",
    "As mentioned in the lecture, machine translation systems are typically evaluated using the **BLEU metric**. Here we use the implementation of this metric from the `sacrebleu` library."
   ]
  },
  {
   "cell_type": "code",
   "execution_count": 26,
   "metadata": {
    "tags": []
   },
   "outputs": [],
   "source": [
    "from sacrebleu.metrics import BLEU\n",
    "bleu_params = dict(effective_order=True, tokenize=\"none\", force=True, smooth_method=\"floor\", smooth_value=0.01)\n",
    "bleu = BLEU(**bleu_params)"
   ]
  },
  {
   "cell_type": "markdown",
   "metadata": {},
   "source": [
    "If the test sentence is exactly identical to the reference sentence, the score will be 100 (plus/minus potential floating point rounding errors):"
   ]
  },
  {
   "cell_type": "code",
   "execution_count": 27,
   "metadata": {},
   "outputs": [
    {
     "data": {
      "text/plain": [
       "100.00000000000004"
      ]
     },
     "execution_count": 27,
     "metadata": {},
     "output_type": "execute_result"
    }
   ],
   "source": [
    "bleu.sentence_score(\"the house is blue .\", [\"the house is blue .\"]).score"
   ]
  },
  {
   "cell_type": "markdown",
   "metadata": {},
   "source": [
    "If we change some words, the score will go down, though never below zero:"
   ]
  },
  {
   "cell_type": "code",
   "execution_count": 28,
   "metadata": {
    "tags": []
   },
   "outputs": [
    {
     "data": {
      "text/plain": [
       "3.9763536438352522"
      ]
     },
     "execution_count": 28,
     "metadata": {},
     "output_type": "execute_result"
    }
   ],
   "source": [
    "bleu.sentence_score(\"the house was red .\", [\"the house is blue .\"]).score"
   ]
  },
  {
   "cell_type": "markdown",
   "metadata": {},
   "source": [
    "Here is a helper function that takes a trained `Translator` model as well as a `Dataset`, runs all sentences through the translator, and computes the BLEU score for the entire dataset:"
   ]
  },
  {
   "cell_type": "code",
   "execution_count": 29,
   "metadata": {
    "tags": []
   },
   "outputs": [],
   "source": [
    "def compute_bleu(translator, dataset):\n",
    "    hyp = translator.translate(dataset)\n",
    "    ref = [\n",
    "        \" \".join(translator.tgt_vocab[idx] for idx in s if idx not in (0, translator.eos_index))\n",
    "        for s in dataset.unbatch().map(lambda _, x: x).as_numpy_iterator()\n",
    "    ]\n",
    "    return bleu.corpus_score(hyp, [ref]).score"
   ]
  },
  {
   "cell_type": "markdown",
   "metadata": {
    "id": "Ozk1hurqCutP"
   },
   "source": [
    "We want to report the BLEU score on the **validation data**, so let's load this as well:"
   ]
  },
  {
   "cell_type": "code",
   "execution_count": 30,
   "metadata": {
    "id": "HNtBMDVqCutP",
    "tags": []
   },
   "outputs": [],
   "source": [
    "valid_dataset = load_translation_dataset(src_lookup, tgt_lookup, \"en-sv-valid.txt\")"
   ]
  },
  {
   "cell_type": "markdown",
   "metadata": {
    "id": "xe2rPzwmCutQ"
   },
   "source": [
    "### Batching\n",
    "\n",
    "So far we only tested our code on \"batches\" with a single sentence. In order to use larger batches, we need to make sure that all of the sentences in a batch have the same length. We achieve this by _padding_ the shorter sentences to the length of the longest one. Luckily, the `tf.Dataset` class has a function [`padded_batch`](https://www.tensorflow.org/api_docs/python/tf/data/Dataset#padded_batch) that will do this for us. If we provide a `Dataset` for training, Keras won't shuffle the data automatically, so we also have to [`shuffle`](https://www.tensorflow.org/api_docs/python/tf/data/Dataset#shuffle) the dataset explicitly. (For validation, shuffling doesn't matter.)"
   ]
  },
  {
   "cell_type": "code",
   "execution_count": 31,
   "metadata": {
    "id": "X-yfmnSzCutQ",
    "tags": []
   },
   "outputs": [],
   "source": [
    "train_batched = train_dataset.shuffle(512).padded_batch(64)\n",
    "valid_batched = valid_dataset.padded_batch(64)"
   ]
  },
  {
   "cell_type": "markdown",
   "metadata": {
    "id": "FfM1Ov-sCutQ"
   },
   "source": [
    "### Training\n",
    "\n",
    "Training works as for any other Keras model: we first need to `compile` the model with the optimizer, loss function, and validation metrics that we want to use."
   ]
  },
  {
   "cell_type": "code",
   "execution_count": 32,
   "metadata": {
    "id": "yr4VP-SpCutQ",
    "tags": []
   },
   "outputs": [],
   "source": [
    "translator.compile(\n",
    "    optimizer=keras.optimizers.Adam(learning_rate=2e-3),\n",
    "    loss=keras.losses.SparseCategoricalCrossentropy(from_logits=True)\n",
    ")"
   ]
  },
  {
   "cell_type": "markdown",
   "metadata": {
    "id": "KgXElolrCutR"
   },
   "source": [
    "Now it is time to train the system. During training, these diagnostics will be updated periodically: the running average of the training loss; after a full epoch, the loss and the BLEU score on the validation data will be computed and printed.\n",
    "\n",
    "Let's also define a callback that additionally prints the translation of a sample sentence, *jag saknar min familj* (which should translate into *i miss my family*), every 50 batches:"
   ]
  },
  {
   "cell_type": "code",
   "execution_count": 33,
   "metadata": {
    "tags": []
   },
   "outputs": [],
   "source": [
    "my_callbacks = [\n",
    "    keras.callbacks.LambdaCallback(\n",
    "        on_train_batch_end=lambda b, _: tf.print(\" - jag saknar min familj . ->\", translator.translate(['jag saknar min familj .'])[0]) if b > 0 and b % 50 == 0 else None,\n",
    "        on_epoch_end=lambda _, l: l.__setitem__(\"val_bleu\", compute_bleu(translator, valid_batched))\n",
    "    )\n",
    "]"
   ]
  },
  {
   "cell_type": "markdown",
   "metadata": {},
   "source": [
    "#### 🤔 Task 6: Run the model training\n",
    "\n",
    "Run the following code cells that train the model and evaluate it on the validation data.\n",
    "\n",
    "Training the translator takes quite a bit of compute power and time. The default number of epochs is 2; however, you may want to try training for longer, or interrupt the training prematurely and use a partially trained model in case you run out of time.\n",
    "\n",
    "**⚠️ Your submitted notebook must contain output demonstrating at least 20 BLEU points on the validation data.**"
   ]
  },
  {
   "cell_type": "code",
   "execution_count": 34,
   "metadata": {
    "id": "VW8wF8oRCutR",
    "tags": []
   },
   "outputs": [
    {
     "name": "stdout",
     "output_type": "stream",
     "text": [
      "Epoch 1/5\n",
      " - jag saknar min familj . -> i ' t ...] - ETA: 34s - loss: 5.2192  \n",
      " - jag saknar min familj . -> i ' t have to the .1s - loss: 4.4809\n",
      " - jag saknar min familj . -> i ' m a lot .ETA: 23s - loss: 4.0637\n",
      " - jag saknar min familj . -> i ' m going to the box .loss: 3.7763\n",
      " - jag saknar min familj . -> i ' m my wife .A: 9s - loss: 3.5400 \n",
      " - jag saknar min familj . -> i ' m my family . 2s - loss: 3.3367\n",
      "322/322 [==============================] - 54s 155ms/step - loss: 3.2556 - val_loss: 4.4372 - val_bleu: 15.0710\n",
      "Epoch 2/5\n",
      " - jag saknar min familj . -> i ' m my friend . 34s - loss: 2.1138 \n",
      " - jag saknar min familj . -> i ' m my friend . 28s - loss: 2.0304\n",
      " - jag saknar min familj . -> i ' m my family . 22s - loss: 1.9516\n",
      " - jag saknar min familj . -> i miss my family .16s - loss: 1.8775\n",
      " - jag saknar min familj . -> i miss my family .9s - loss: 1.7975 \n",
      " - jag saknar min familj . -> i miss my family .2s - loss: 1.7210\n",
      "322/322 [==============================] - 48s 149ms/step - loss: 1.6908 - val_loss: 4.6913 - val_bleu: 30.5075\n",
      "Epoch 3/5\n",
      " - jag saknar min familj . -> i miss my family .36s - loss: 1.2601 \n",
      " - jag saknar min familj . -> i miss my family .29s - loss: 1.2035\n",
      " - jag saknar min familj . -> i missed my family .s - loss: 1.1745\n",
      " - jag saknar min familj . -> i miss my family .16s - loss: 1.1377\n",
      " - jag saknar min familj . -> i miss my family .9s - loss: 1.0985 \n",
      " - jag saknar min familj . -> i miss my family .2s - loss: 1.0594\n",
      "322/322 [==============================] - 49s 151ms/step - loss: 1.0438 - val_loss: 4.9373 - val_bleu: 39.0083\n",
      "Epoch 4/5\n",
      " - jag saknar min familj . -> i miss my family .36s - loss: 0.8082 \n",
      " - jag saknar min familj . -> i miss my family .30s - loss: 0.7847\n",
      " - jag saknar min familj . -> i missed my family .s - loss: 0.7701\n",
      " - jag saknar min familj . -> i miss my family .16s - loss: 0.7543\n",
      " - jag saknar min familj . -> i miss my family .9s - loss: 0.7367 \n",
      " - jag saknar min familj . -> i miss my family .3s - loss: 0.7177\n",
      "322/322 [==============================] - 49s 151ms/step - loss: 0.7114 - val_loss: 5.2968 - val_bleu: 42.6180\n",
      "Epoch 5/5\n",
      " - jag saknar min familj . -> i miss my family .37s - loss: 0.5567 \n",
      " - jag saknar min familj . -> i miss my family .30s - loss: 0.5378\n",
      " - jag saknar min familj . -> i miss my family .23s - loss: 0.5388\n",
      " - jag saknar min familj . -> i miss my family .16s - loss: 0.5341\n",
      " - jag saknar min familj . -> i miss my family .9s - loss: 0.5266 \n",
      " - jag saknar min familj . -> i miss my family .3s - loss: 0.5162\n",
      "322/322 [==============================] - 50s 154ms/step - loss: 0.5116 - val_loss: 5.5477 - val_bleu: 45.2260\n",
      "CPU times: user 52min, sys: 1min 4s, total: 53min 4s\n",
      "Wall time: 4min 9s\n"
     ]
    }
   ],
   "source": [
    "%%time\n",
    "try:\n",
    "    translator.fit(train_batched, epochs=5, validation_data=valid_batched, callbacks=my_callbacks)\n",
    "except KeyboardInterrupt:\n",
    "    pass"
   ]
  },
  {
   "cell_type": "code",
   "execution_count": 35,
   "metadata": {
    "tags": []
   },
   "outputs": [
    {
     "data": {
      "text/plain": [
       "45.22602913446248"
      ]
     },
     "execution_count": 35,
     "metadata": {},
     "output_type": "execute_result"
    }
   ],
   "source": [
    "compute_bleu(translator, valid_batched)"
   ]
  },
  {
   "cell_type": "markdown",
   "metadata": {},
   "source": [
    "#### ℹ️ Some notes on the translations\n",
    "\n",
    "If you try out sentences to see their translation (like in the code cell below), you might find some possibly surprising results, such as:\n",
    "\n",
    "- **Translations that are seemingly nonsensical or have nothing to do with the input.** This might be because the model is undertrained; you could try training for more epochs to see if the translations improve. It's also possible that you tried words or phrases that were just not well-represented in the training data.\n",
    "- **Translations that have a lot of `<unk>`s.** This might be due to the words just not being present in the model's vocabulary! Remember you can check this with the vocabularies you created, e.g. `\"friterade\" in src_vocab`. You could try increasing the vocabulary size and see if the results improve, but this will also increase training time.\n",
    "\n",
    "Finally, keep in mind that both the dataset and the model itself is quite tiny, as it's optimized for speed and demonstration purposes rather than efficiency!"
   ]
  },
  {
   "cell_type": "code",
   "execution_count": 36,
   "metadata": {},
   "outputs": [
    {
     "data": {
      "text/plain": [
       "['i miss my family .', 'turn off the water .', 'i love the <unk> cheese .']"
      ]
     },
     "execution_count": 36,
     "metadata": {},
     "output_type": "execute_result"
    }
   ],
   "source": [
    "translator.translate(['jag saknar min familj . ', 'stäng av vattnet .', 'jag älskar friterade bananer .'])"
   ]
  },
  {
   "cell_type": "markdown",
   "metadata": {
    "id": "7677Q0QLCutS"
   },
   "source": [
    "# Part 4: Visualising attention"
   ]
  },
  {
   "cell_type": "markdown",
   "metadata": {
    "id": "OCzHCB4XCutS"
   },
   "source": [
    "Figure&nbsp;3 in the paper by [Bahdanau et al. (2015)](https://arxiv.org/abs/1409.0473) shows some heatmaps of attention weights in selected sentences. In the last problem of this lab, we ask you to inspect attention weights for your trained translation system. We define a function `plot_attention` that visualises the attention weights. The *x*-axis corresponds to the words in the source sentence (Swedish) and the *y*-axis to the generated target sentence (English).\n",
    "\n",
    "The heatmap colours represent the **strengths of the attention weights**, with _lighter_ cells indicating a _higher_ attention value, just as in the Bahdanau et al. paper."
   ]
  },
  {
   "cell_type": "code",
   "execution_count": 37,
   "metadata": {
    "id": "IXHPiuamCutS"
   },
   "outputs": [],
   "source": [
    "import matplotlib.pyplot as plt\n",
    "import numpy as np\n",
    "\n",
    "%config InlineBackend.figure_format = 'svg'\n",
    "\n",
    "plt.style.use('seaborn-v0_8-whitegrid')\n",
    "\n",
    "def plot_attention(translator, sentence):\n",
    "    translation, weights = translator.translate_with_attention([sentence])[0]\n",
    "    weights = np.array(weights)\n",
    "\n",
    "    fig, ax = plt.subplots()\n",
    "    heatmap = ax.pcolor(weights, cmap='Blues_r', vmin=0., vmax=1.)\n",
    "\n",
    "    ax.xaxis.tick_top()\n",
    "    ax.set_xticks(np.arange(weights.shape[1]) + 0.5, minor=False)\n",
    "    ax.set_yticks(np.arange(weights.shape[0]) + 0.5, minor=False)\n",
    "    ax.set_xticklabels(sentence.split(), minor=False, rotation=40)\n",
    "    ax.set_yticklabels(translation.split(), minor=False)\n",
    "    ax.invert_yaxis()\n",
    "\n",
    "    plt.colorbar(heatmap)"
   ]
  },
  {
   "cell_type": "markdown",
   "metadata": {
    "id": "SGCwchIdCutS"
   },
   "source": [
    "Here is an example."
   ]
  },
  {
   "cell_type": "code",
   "execution_count": 61,
   "metadata": {
    "id": "Hj4teeITCutT"
   },
   "outputs": [
    {
     "data": {
      "image/svg+xml": [
       "<?xml version=\"1.0\" encoding=\"utf-8\" standalone=\"no\"?>\n",
       "<!DOCTYPE svg PUBLIC \"-//W3C//DTD SVG 1.1//EN\"\n",
       "  \"http://www.w3.org/Graphics/SVG/1.1/DTD/svg11.dtd\">\n",
       "<svg xmlns:xlink=\"http://www.w3.org/1999/xlink\" width=\"378.2701pt\" height=\"316.143071pt\" viewBox=\"0 0 378.2701 316.143071\" xmlns=\"http://www.w3.org/2000/svg\" version=\"1.1\">\n",
       " <metadata>\n",
       "  <rdf:RDF xmlns:dc=\"http://purl.org/dc/elements/1.1/\" xmlns:cc=\"http://creativecommons.org/ns#\" xmlns:rdf=\"http://www.w3.org/1999/02/22-rdf-syntax-ns#\">\n",
       "   <cc:Work>\n",
       "    <dc:type rdf:resource=\"http://purl.org/dc/dcmitype/StillImage\"/>\n",
       "    <dc:date>2025-05-08T15:51:27.335788</dc:date>\n",
       "    <dc:format>image/svg+xml</dc:format>\n",
       "    <dc:creator>\n",
       "     <cc:Agent>\n",
       "      <dc:title>Matplotlib v3.8.4, https://matplotlib.org/</dc:title>\n",
       "     </cc:Agent>\n",
       "    </dc:creator>\n",
       "   </cc:Work>\n",
       "  </rdf:RDF>\n",
       " </metadata>\n",
       " <defs>\n",
       "  <style type=\"text/css\">*{stroke-linejoin: round; stroke-linecap: butt}</style>\n",
       " </defs>\n",
       " <g id=\"figure_1\">\n",
       "  <g id=\"patch_1\">\n",
       "   <path d=\"M 0 316.143071 \n",
       "L 378.2701 316.143071 \n",
       "L 378.2701 0 \n",
       "L 0 0 \n",
       "z\n",
       "\" style=\"fill: #ffffff\"/>\n",
       "  </g>\n",
       "  <g id=\"axes_1\">\n",
       "   <g id=\"patch_2\">\n",
       "    <path d=\"M 36.8125 303.244634 \n",
       "L 322.5085 303.244634 \n",
       "L 322.5085 37.132634 \n",
       "L 36.8125 37.132634 \n",
       "z\n",
       "\" style=\"fill: #ffffff\"/>\n",
       "   </g>\n",
       "   <g id=\"matplotlib.axis_1\">\n",
       "    <g id=\"xtick_1\">\n",
       "     <g id=\"line2d_1\">\n",
       "      <path d=\"M 65.3821 303.244634 \n",
       "L 65.3821 37.132634 \n",
       "\" clip-path=\"url(#p64ef79f2bf)\" style=\"fill: none; stroke: #cccccc; stroke-width: 0.8; stroke-linecap: round\"/>\n",
       "     </g>\n",
       "     <g id=\"line2d_2\"/>\n",
       "     <g id=\"text_1\">\n",
       "      <!-- jag -->\n",
       "      <g style=\"fill: #262626\" transform=\"translate(61.933356 32.043091) rotate(-40) scale(0.1 -0.1)\">\n",
       "       <defs>\n",
       "        <path id=\"LiberationSans-6a\" d=\"M 428 4100 \n",
       "L 428 4638 \n",
       "L 991 4638 \n",
       "L 991 4100 \n",
       "L 428 4100 \n",
       "z\n",
       "M 991 -419 \n",
       "Q 991 -897 803 -1112 \n",
       "Q 616 -1328 241 -1328 \n",
       "Q 0 -1328 -156 -1300 \n",
       "L -156 -866 \n",
       "L 38 -884 \n",
       "Q 253 -884 340 -771 \n",
       "Q 428 -659 428 -334 \n",
       "L 428 3381 \n",
       "L 991 3381 \n",
       "L 991 -419 \n",
       "z\n",
       "\" transform=\"scale(0.015625)\"/>\n",
       "        <path id=\"LiberationSans-61\" d=\"M 1294 -63 \n",
       "Q 784 -63 528 206 \n",
       "Q 272 475 272 944 \n",
       "Q 272 1469 617 1750 \n",
       "Q 963 2031 1731 2050 \n",
       "L 2491 2063 \n",
       "L 2491 2247 \n",
       "Q 2491 2659 2316 2837 \n",
       "Q 2141 3016 1766 3016 \n",
       "Q 1388 3016 1216 2887 \n",
       "Q 1044 2759 1009 2478 \n",
       "L 422 2531 \n",
       "Q 566 3444 1778 3444 \n",
       "Q 2416 3444 2737 3151 \n",
       "Q 3059 2859 3059 2306 \n",
       "L 3059 850 \n",
       "Q 3059 600 3125 473 \n",
       "Q 3191 347 3375 347 \n",
       "Q 3456 347 3559 369 \n",
       "L 3559 19 \n",
       "Q 3347 -31 3125 -31 \n",
       "Q 2813 -31 2670 133 \n",
       "Q 2528 297 2509 647 \n",
       "L 2491 647 \n",
       "Q 2275 259 1989 98 \n",
       "Q 1703 -63 1294 -63 \n",
       "z\n",
       "M 1422 359 \n",
       "Q 1731 359 1972 500 \n",
       "Q 2213 641 2352 886 \n",
       "Q 2491 1131 2491 1391 \n",
       "L 2491 1669 \n",
       "L 1875 1656 \n",
       "Q 1478 1650 1273 1575 \n",
       "Q 1069 1500 959 1344 \n",
       "Q 850 1188 850 934 \n",
       "Q 850 659 998 509 \n",
       "Q 1147 359 1422 359 \n",
       "z\n",
       "\" transform=\"scale(0.015625)\"/>\n",
       "        <path id=\"LiberationSans-67\" d=\"M 1713 -1328 \n",
       "Q 1159 -1328 831 -1111 \n",
       "Q 503 -894 409 -494 \n",
       "L 975 -413 \n",
       "Q 1031 -647 1223 -773 \n",
       "Q 1416 -900 1728 -900 \n",
       "Q 2569 -900 2569 84 \n",
       "L 2569 628 \n",
       "L 2563 628 \n",
       "Q 2403 303 2125 139 \n",
       "Q 1847 -25 1475 -25 \n",
       "Q 853 -25 561 387 \n",
       "Q 269 800 269 1684 \n",
       "Q 269 2581 583 3007 \n",
       "Q 897 3434 1538 3434 \n",
       "Q 1897 3434 2161 3270 \n",
       "Q 2425 3106 2569 2803 \n",
       "L 2575 2803 \n",
       "Q 2575 2897 2587 3128 \n",
       "Q 2600 3359 2613 3381 \n",
       "L 3147 3381 \n",
       "Q 3128 3213 3128 2681 \n",
       "L 3128 97 \n",
       "Q 3128 -1328 1713 -1328 \n",
       "z\n",
       "M 2569 1691 \n",
       "Q 2569 2103 2456 2401 \n",
       "Q 2344 2700 2139 2858 \n",
       "Q 1934 3016 1675 3016 \n",
       "Q 1244 3016 1047 2703 \n",
       "Q 850 2391 850 1691 \n",
       "Q 850 997 1034 694 \n",
       "Q 1219 391 1666 391 \n",
       "Q 1931 391 2137 547 \n",
       "Q 2344 703 2456 995 \n",
       "Q 2569 1288 2569 1691 \n",
       "z\n",
       "\" transform=\"scale(0.015625)\"/>\n",
       "       </defs>\n",
       "       <use xlink:href=\"#LiberationSans-6a\"/>\n",
       "       <use xlink:href=\"#LiberationSans-61\" x=\"22.216797\"/>\n",
       "       <use xlink:href=\"#LiberationSans-67\" x=\"77.832031\"/>\n",
       "      </g>\n",
       "     </g>\n",
       "    </g>\n",
       "    <g id=\"xtick_2\">\n",
       "     <g id=\"line2d_3\">\n",
       "      <path d=\"M 122.5213 303.244634 \n",
       "L 122.5213 37.132634 \n",
       "\" clip-path=\"url(#p64ef79f2bf)\" style=\"fill: none; stroke: #cccccc; stroke-width: 0.8; stroke-linecap: round\"/>\n",
       "     </g>\n",
       "     <g id=\"line2d_4\"/>\n",
       "     <g id=\"text_2\">\n",
       "      <!-- saknar -->\n",
       "      <g style=\"fill: #262626\" transform=\"translate(112.688054 32.043091) rotate(-40) scale(0.1 -0.1)\">\n",
       "       <defs>\n",
       "        <path id=\"LiberationSans-73\" d=\"M 2969 934 \n",
       "Q 2969 456 2608 196 \n",
       "Q 2247 -63 1597 -63 \n",
       "Q 966 -63 623 145 \n",
       "Q 281 353 178 794 \n",
       "L 675 891 \n",
       "Q 747 619 972 492 \n",
       "Q 1197 366 1597 366 \n",
       "Q 2025 366 2223 497 \n",
       "Q 2422 628 2422 891 \n",
       "Q 2422 1091 2284 1216 \n",
       "Q 2147 1341 1841 1422 \n",
       "L 1438 1528 \n",
       "Q 953 1653 748 1773 \n",
       "Q 544 1894 428 2066 \n",
       "Q 313 2238 313 2488 \n",
       "Q 313 2950 642 3192 \n",
       "Q 972 3434 1603 3434 \n",
       "Q 2163 3434 2492 3237 \n",
       "Q 2822 3041 2909 2606 \n",
       "L 2403 2544 \n",
       "Q 2356 2769 2151 2889 \n",
       "Q 1947 3009 1603 3009 \n",
       "Q 1222 3009 1040 2893 \n",
       "Q 859 2778 859 2544 \n",
       "Q 859 2400 934 2306 \n",
       "Q 1009 2213 1156 2147 \n",
       "Q 1303 2081 1775 1966 \n",
       "Q 2222 1853 2419 1758 \n",
       "Q 2616 1663 2730 1547 \n",
       "Q 2844 1431 2906 1279 \n",
       "Q 2969 1128 2969 934 \n",
       "z\n",
       "\" transform=\"scale(0.015625)\"/>\n",
       "        <path id=\"LiberationSans-6b\" d=\"M 2550 0 \n",
       "L 1406 1544 \n",
       "L 994 1203 \n",
       "L 994 0 \n",
       "L 431 0 \n",
       "L 431 4638 \n",
       "L 994 4638 \n",
       "L 994 1741 \n",
       "L 2478 3381 \n",
       "L 3138 3381 \n",
       "L 1766 1928 \n",
       "L 3209 0 \n",
       "L 2550 0 \n",
       "z\n",
       "\" transform=\"scale(0.015625)\"/>\n",
       "        <path id=\"LiberationSans-6e\" d=\"M 2578 0 \n",
       "L 2578 2144 \n",
       "Q 2578 2478 2512 2662 \n",
       "Q 2447 2847 2303 2928 \n",
       "Q 2159 3009 1881 3009 \n",
       "Q 1475 3009 1240 2731 \n",
       "Q 1006 2453 1006 1959 \n",
       "L 1006 0 \n",
       "L 444 0 \n",
       "L 444 2659 \n",
       "Q 444 3250 425 3381 \n",
       "L 956 3381 \n",
       "Q 959 3366 962 3297 \n",
       "Q 966 3228 970 3139 \n",
       "Q 975 3050 981 2803 \n",
       "L 991 2803 \n",
       "Q 1184 3153 1439 3298 \n",
       "Q 1694 3444 2072 3444 \n",
       "Q 2628 3444 2886 3167 \n",
       "Q 3144 2891 3144 2253 \n",
       "L 3144 0 \n",
       "L 2578 0 \n",
       "z\n",
       "\" transform=\"scale(0.015625)\"/>\n",
       "        <path id=\"LiberationSans-72\" d=\"M 444 0 \n",
       "L 444 2594 \n",
       "Q 444 2950 425 3381 \n",
       "L 956 3381 \n",
       "Q 981 2806 981 2691 \n",
       "L 994 2691 \n",
       "Q 1128 3125 1303 3284 \n",
       "Q 1478 3444 1797 3444 \n",
       "Q 1909 3444 2025 3413 \n",
       "L 2025 2897 \n",
       "Q 1913 2928 1725 2928 \n",
       "Q 1375 2928 1190 2626 \n",
       "Q 1006 2325 1006 1763 \n",
       "L 1006 0 \n",
       "L 444 0 \n",
       "z\n",
       "\" transform=\"scale(0.015625)\"/>\n",
       "       </defs>\n",
       "       <use xlink:href=\"#LiberationSans-73\"/>\n",
       "       <use xlink:href=\"#LiberationSans-61\" x=\"50\"/>\n",
       "       <use xlink:href=\"#LiberationSans-6b\" x=\"105.615234\"/>\n",
       "       <use xlink:href=\"#LiberationSans-6e\" x=\"155.615234\"/>\n",
       "       <use xlink:href=\"#LiberationSans-61\" x=\"211.230469\"/>\n",
       "       <use xlink:href=\"#LiberationSans-72\" x=\"266.845703\"/>\n",
       "      </g>\n",
       "     </g>\n",
       "    </g>\n",
       "    <g id=\"xtick_3\">\n",
       "     <g id=\"line2d_5\">\n",
       "      <path d=\"M 179.6605 303.244634 \n",
       "L 179.6605 37.132634 \n",
       "\" clip-path=\"url(#p64ef79f2bf)\" style=\"fill: none; stroke: #cccccc; stroke-width: 0.8; stroke-linecap: round\"/>\n",
       "     </g>\n",
       "     <g id=\"line2d_6\"/>\n",
       "     <g id=\"text_3\">\n",
       "      <!-- min -->\n",
       "      <g style=\"fill: #262626\" transform=\"translate(175.151263 32.043091) rotate(-40) scale(0.1 -0.1)\">\n",
       "       <defs>\n",
       "        <path id=\"LiberationSans-6d\" d=\"M 2400 0 \n",
       "L 2400 2144 \n",
       "Q 2400 2634 2265 2821 \n",
       "Q 2131 3009 1781 3009 \n",
       "Q 1422 3009 1212 2734 \n",
       "Q 1003 2459 1003 1959 \n",
       "L 1003 0 \n",
       "L 444 0 \n",
       "L 444 2659 \n",
       "Q 444 3250 425 3381 \n",
       "L 956 3381 \n",
       "Q 959 3366 962 3297 \n",
       "Q 966 3228 970 3139 \n",
       "Q 975 3050 981 2803 \n",
       "L 991 2803 \n",
       "Q 1172 3163 1406 3303 \n",
       "Q 1641 3444 1978 3444 \n",
       "Q 2363 3444 2586 3291 \n",
       "Q 2809 3138 2897 2803 \n",
       "L 2906 2803 \n",
       "Q 3081 3144 3329 3294 \n",
       "Q 3578 3444 3931 3444 \n",
       "Q 4444 3444 4676 3166 \n",
       "Q 4909 2888 4909 2253 \n",
       "L 4909 0 \n",
       "L 4353 0 \n",
       "L 4353 2144 \n",
       "Q 4353 2634 4218 2821 \n",
       "Q 4084 3009 3734 3009 \n",
       "Q 3366 3009 3161 2736 \n",
       "Q 2956 2463 2956 1959 \n",
       "L 2956 0 \n",
       "L 2400 0 \n",
       "z\n",
       "\" transform=\"scale(0.015625)\"/>\n",
       "        <path id=\"LiberationSans-69\" d=\"M 428 4100 \n",
       "L 428 4638 \n",
       "L 991 4638 \n",
       "L 991 4100 \n",
       "L 428 4100 \n",
       "z\n",
       "M 428 0 \n",
       "L 428 3381 \n",
       "L 991 3381 \n",
       "L 991 0 \n",
       "L 428 0 \n",
       "z\n",
       "\" transform=\"scale(0.015625)\"/>\n",
       "       </defs>\n",
       "       <use xlink:href=\"#LiberationSans-6d\"/>\n",
       "       <use xlink:href=\"#LiberationSans-69\" x=\"83.300781\"/>\n",
       "       <use xlink:href=\"#LiberationSans-6e\" x=\"105.517578\"/>\n",
       "      </g>\n",
       "     </g>\n",
       "    </g>\n",
       "    <g id=\"xtick_4\">\n",
       "     <g id=\"line2d_7\">\n",
       "      <path d=\"M 236.7997 303.244634 \n",
       "L 236.7997 37.132634 \n",
       "\" clip-path=\"url(#p64ef79f2bf)\" style=\"fill: none; stroke: #cccccc; stroke-width: 0.8; stroke-linecap: round\"/>\n",
       "     </g>\n",
       "     <g id=\"line2d_8\"/>\n",
       "     <g id=\"text_4\">\n",
       "      <!-- familj -->\n",
       "      <g style=\"fill: #262626\" transform=\"translate(229.524324 32.043091) rotate(-40) scale(0.1 -0.1)\">\n",
       "       <defs>\n",
       "        <path id=\"LiberationSans-66\" d=\"M 1128 2972 \n",
       "L 1128 0 \n",
       "L 566 0 \n",
       "L 566 2972 \n",
       "L 91 2972 \n",
       "L 91 3381 \n",
       "L 566 3381 \n",
       "L 566 3763 \n",
       "Q 566 4225 769 4428 \n",
       "Q 972 4631 1391 4631 \n",
       "Q 1625 4631 1788 4594 \n",
       "L 1788 4166 \n",
       "Q 1647 4191 1538 4191 \n",
       "Q 1322 4191 1225 4081 \n",
       "Q 1128 3972 1128 3684 \n",
       "L 1128 3381 \n",
       "L 1788 3381 \n",
       "L 1788 2972 \n",
       "L 1128 2972 \n",
       "z\n",
       "\" transform=\"scale(0.015625)\"/>\n",
       "        <path id=\"LiberationSans-6c\" d=\"M 431 0 \n",
       "L 431 4638 \n",
       "L 994 4638 \n",
       "L 994 0 \n",
       "L 431 0 \n",
       "z\n",
       "\" transform=\"scale(0.015625)\"/>\n",
       "       </defs>\n",
       "       <use xlink:href=\"#LiberationSans-66\"/>\n",
       "       <use xlink:href=\"#LiberationSans-61\" x=\"27.783203\"/>\n",
       "       <use xlink:href=\"#LiberationSans-6d\" x=\"83.398438\"/>\n",
       "       <use xlink:href=\"#LiberationSans-69\" x=\"166.699219\"/>\n",
       "       <use xlink:href=\"#LiberationSans-6c\" x=\"188.916016\"/>\n",
       "       <use xlink:href=\"#LiberationSans-6a\" x=\"211.132812\"/>\n",
       "      </g>\n",
       "     </g>\n",
       "    </g>\n",
       "    <g id=\"xtick_5\">\n",
       "     <g id=\"line2d_9\">\n",
       "      <path d=\"M 293.9389 303.244634 \n",
       "L 293.9389 37.132634 \n",
       "\" clip-path=\"url(#p64ef79f2bf)\" style=\"fill: none; stroke: #cccccc; stroke-width: 0.8; stroke-linecap: round\"/>\n",
       "     </g>\n",
       "     <g id=\"line2d_10\"/>\n",
       "     <g id=\"text_5\">\n",
       "      <!-- . -->\n",
       "      <g style=\"fill: #262626\" transform=\"translate(294.537025 32.043091) rotate(-40) scale(0.1 -0.1)\">\n",
       "       <defs>\n",
       "        <path id=\"LiberationSans-2e\" d=\"M 584 0 \n",
       "L 584 684 \n",
       "L 1194 684 \n",
       "L 1194 0 \n",
       "L 584 0 \n",
       "z\n",
       "\" transform=\"scale(0.015625)\"/>\n",
       "       </defs>\n",
       "       <use xlink:href=\"#LiberationSans-2e\"/>\n",
       "      </g>\n",
       "     </g>\n",
       "    </g>\n",
       "   </g>\n",
       "   <g id=\"matplotlib.axis_2\">\n",
       "    <g id=\"ytick_1\">\n",
       "     <g id=\"line2d_11\">\n",
       "      <path d=\"M 36.8125 63.743834 \n",
       "L 322.5085 63.743834 \n",
       "\" clip-path=\"url(#p64ef79f2bf)\" style=\"fill: none; stroke: #cccccc; stroke-width: 0.8; stroke-linecap: round\"/>\n",
       "     </g>\n",
       "     <g id=\"line2d_12\"/>\n",
       "     <g id=\"text_6\">\n",
       "      <!-- i -->\n",
       "      <g style=\"fill: #262626\" transform=\"translate(31.090625 67.367271) scale(0.1 -0.1)\">\n",
       "       <use xlink:href=\"#LiberationSans-69\"/>\n",
       "      </g>\n",
       "     </g>\n",
       "    </g>\n",
       "    <g id=\"ytick_2\">\n",
       "     <g id=\"line2d_13\">\n",
       "      <path d=\"M 36.8125 116.966234 \n",
       "L 322.5085 116.966234 \n",
       "\" clip-path=\"url(#p64ef79f2bf)\" style=\"fill: none; stroke: #cccccc; stroke-width: 0.8; stroke-linecap: round\"/>\n",
       "     </g>\n",
       "     <g id=\"line2d_14\"/>\n",
       "     <g id=\"text_7\">\n",
       "      <!-- miss -->\n",
       "      <g style=\"fill: #262626\" transform=\"translate(12.760938 120.589671) scale(0.1 -0.1)\">\n",
       "       <use xlink:href=\"#LiberationSans-6d\"/>\n",
       "       <use xlink:href=\"#LiberationSans-69\" x=\"83.300781\"/>\n",
       "       <use xlink:href=\"#LiberationSans-73\" x=\"105.517578\"/>\n",
       "       <use xlink:href=\"#LiberationSans-73\" x=\"155.517578\"/>\n",
       "      </g>\n",
       "     </g>\n",
       "    </g>\n",
       "    <g id=\"ytick_3\">\n",
       "     <g id=\"line2d_15\">\n",
       "      <path d=\"M 36.8125 170.188634 \n",
       "L 322.5085 170.188634 \n",
       "\" clip-path=\"url(#p64ef79f2bf)\" style=\"fill: none; stroke: #cccccc; stroke-width: 0.8; stroke-linecap: round\"/>\n",
       "     </g>\n",
       "     <g id=\"line2d_16\"/>\n",
       "     <g id=\"text_8\">\n",
       "      <!-- my -->\n",
       "      <g style=\"fill: #262626\" transform=\"translate(19.982813 173.812071) scale(0.1 -0.1)\">\n",
       "       <defs>\n",
       "        <path id=\"LiberationSans-79\" d=\"M 597 -1328 \n",
       "Q 366 -1328 209 -1294 \n",
       "L 209 -872 \n",
       "Q 328 -891 472 -891 \n",
       "Q 997 -891 1303 -119 \n",
       "L 1356 16 \n",
       "L 16 3381 \n",
       "L 616 3381 \n",
       "L 1328 1513 \n",
       "Q 1344 1469 1366 1408 \n",
       "Q 1388 1347 1506 1000 \n",
       "Q 1625 653 1634 613 \n",
       "L 1853 1228 \n",
       "L 2594 3381 \n",
       "L 3188 3381 \n",
       "L 1888 0 \n",
       "Q 1678 -541 1497 -805 \n",
       "Q 1316 -1069 1095 -1198 \n",
       "Q 875 -1328 597 -1328 \n",
       "z\n",
       "\" transform=\"scale(0.015625)\"/>\n",
       "       </defs>\n",
       "       <use xlink:href=\"#LiberationSans-6d\"/>\n",
       "       <use xlink:href=\"#LiberationSans-79\" x=\"83.300781\"/>\n",
       "      </g>\n",
       "     </g>\n",
       "    </g>\n",
       "    <g id=\"ytick_4\">\n",
       "     <g id=\"line2d_17\">\n",
       "      <path d=\"M 36.8125 223.411034 \n",
       "L 322.5085 223.411034 \n",
       "\" clip-path=\"url(#p64ef79f2bf)\" style=\"fill: none; stroke: #cccccc; stroke-width: 0.8; stroke-linecap: round\"/>\n",
       "     </g>\n",
       "     <g id=\"line2d_18\"/>\n",
       "     <g id=\"text_9\">\n",
       "      <!-- family -->\n",
       "      <g style=\"fill: #262626\" transform=\"translate(7.2 227.034471) scale(0.1 -0.1)\">\n",
       "       <use xlink:href=\"#LiberationSans-66\"/>\n",
       "       <use xlink:href=\"#LiberationSans-61\" x=\"27.783203\"/>\n",
       "       <use xlink:href=\"#LiberationSans-6d\" x=\"83.398438\"/>\n",
       "       <use xlink:href=\"#LiberationSans-69\" x=\"166.699219\"/>\n",
       "       <use xlink:href=\"#LiberationSans-6c\" x=\"188.916016\"/>\n",
       "       <use xlink:href=\"#LiberationSans-79\" x=\"211.132812\"/>\n",
       "      </g>\n",
       "     </g>\n",
       "    </g>\n",
       "    <g id=\"ytick_5\">\n",
       "     <g id=\"line2d_19\">\n",
       "      <path d=\"M 36.8125 276.633434 \n",
       "L 322.5085 276.633434 \n",
       "\" clip-path=\"url(#p64ef79f2bf)\" style=\"fill: none; stroke: #cccccc; stroke-width: 0.8; stroke-linecap: round\"/>\n",
       "     </g>\n",
       "     <g id=\"line2d_20\"/>\n",
       "     <g id=\"text_10\">\n",
       "      <!-- . -->\n",
       "      <g style=\"fill: #262626\" transform=\"translate(30.534375 280.256871) scale(0.1 -0.1)\">\n",
       "       <use xlink:href=\"#LiberationSans-2e\"/>\n",
       "      </g>\n",
       "     </g>\n",
       "    </g>\n",
       "   </g>\n",
       "   <g id=\"PolyQuadMesh_1\">\n",
       "    <path d=\"M 36.8125 37.132634 \n",
       "L 36.8125 90.355034 \n",
       "L 93.9517 90.355034 \n",
       "L 93.9517 37.132634 \n",
       "L 36.8125 37.132634 \n",
       "z\n",
       "\" clip-path=\"url(#p64ef79f2bf)\" style=\"fill: #135fa7\"/>\n",
       "    <path d=\"M 93.9517 37.132634 \n",
       "L 93.9517 90.355034 \n",
       "L 151.0909 90.355034 \n",
       "L 151.0909 37.132634 \n",
       "L 93.9517 37.132634 \n",
       "z\n",
       "\" clip-path=\"url(#p64ef79f2bf)\" style=\"fill: #72b2d8\"/>\n",
       "    <path d=\"M 151.0909 37.132634 \n",
       "L 151.0909 90.355034 \n",
       "L 208.2301 90.355034 \n",
       "L 208.2301 37.132634 \n",
       "L 151.0909 37.132634 \n",
       "z\n",
       "\" clip-path=\"url(#p64ef79f2bf)\" style=\"fill: #083877\"/>\n",
       "    <path d=\"M 208.2301 37.132634 \n",
       "L 208.2301 90.355034 \n",
       "L 265.3693 90.355034 \n",
       "L 265.3693 37.132634 \n",
       "L 208.2301 37.132634 \n",
       "z\n",
       "\" clip-path=\"url(#p64ef79f2bf)\" style=\"fill: #083776\"/>\n",
       "    <path d=\"M 265.3693 37.132634 \n",
       "L 265.3693 90.355034 \n",
       "L 322.5085 90.355034 \n",
       "L 322.5085 37.132634 \n",
       "L 265.3693 37.132634 \n",
       "z\n",
       "\" clip-path=\"url(#p64ef79f2bf)\" style=\"fill: #1d6cb1\"/>\n",
       "    <path d=\"M 36.8125 90.355034 \n",
       "L 36.8125 143.577434 \n",
       "L 93.9517 143.577434 \n",
       "L 93.9517 90.355034 \n",
       "L 36.8125 90.355034 \n",
       "z\n",
       "\" clip-path=\"url(#p64ef79f2bf)\" style=\"fill: #083674\"/>\n",
       "    <path d=\"M 93.9517 90.355034 \n",
       "L 93.9517 143.577434 \n",
       "L 151.0909 143.577434 \n",
       "L 151.0909 90.355034 \n",
       "L 93.9517 90.355034 \n",
       "z\n",
       "\" clip-path=\"url(#p64ef79f2bf)\" style=\"fill: #e9f2fa\"/>\n",
       "    <path d=\"M 151.0909 90.355034 \n",
       "L 151.0909 143.577434 \n",
       "L 208.2301 143.577434 \n",
       "L 208.2301 90.355034 \n",
       "L 151.0909 90.355034 \n",
       "z\n",
       "\" clip-path=\"url(#p64ef79f2bf)\" style=\"fill: #083877\"/>\n",
       "    <path d=\"M 208.2301 90.355034 \n",
       "L 208.2301 143.577434 \n",
       "L 265.3693 143.577434 \n",
       "L 265.3693 90.355034 \n",
       "L 208.2301 90.355034 \n",
       "z\n",
       "\" clip-path=\"url(#p64ef79f2bf)\" style=\"fill: #083370\"/>\n",
       "    <path d=\"M 265.3693 90.355034 \n",
       "L 265.3693 143.577434 \n",
       "L 322.5085 143.577434 \n",
       "L 322.5085 90.355034 \n",
       "L 265.3693 90.355034 \n",
       "z\n",
       "\" clip-path=\"url(#p64ef79f2bf)\" style=\"fill: #08306b\"/>\n",
       "    <path d=\"M 36.8125 143.577434 \n",
       "L 36.8125 196.799834 \n",
       "L 93.9517 196.799834 \n",
       "L 93.9517 143.577434 \n",
       "L 36.8125 143.577434 \n",
       "z\n",
       "\" clip-path=\"url(#p64ef79f2bf)\" style=\"fill: #08306b\"/>\n",
       "    <path d=\"M 93.9517 143.577434 \n",
       "L 93.9517 196.799834 \n",
       "L 151.0909 196.799834 \n",
       "L 151.0909 143.577434 \n",
       "L 93.9517 143.577434 \n",
       "z\n",
       "\" clip-path=\"url(#p64ef79f2bf)\" style=\"fill: #083471\"/>\n",
       "    <path d=\"M 151.0909 143.577434 \n",
       "L 151.0909 196.799834 \n",
       "L 208.2301 196.799834 \n",
       "L 208.2301 143.577434 \n",
       "L 151.0909 143.577434 \n",
       "z\n",
       "\" clip-path=\"url(#p64ef79f2bf)\" style=\"fill: #d5e5f4\"/>\n",
       "    <path d=\"M 208.2301 143.577434 \n",
       "L 208.2301 196.799834 \n",
       "L 265.3693 196.799834 \n",
       "L 265.3693 143.577434 \n",
       "L 208.2301 143.577434 \n",
       "z\n",
       "\" clip-path=\"url(#p64ef79f2bf)\" style=\"fill: #0c56a0\"/>\n",
       "    <path d=\"M 265.3693 143.577434 \n",
       "L 265.3693 196.799834 \n",
       "L 322.5085 196.799834 \n",
       "L 322.5085 143.577434 \n",
       "L 265.3693 143.577434 \n",
       "z\n",
       "\" clip-path=\"url(#p64ef79f2bf)\" style=\"fill: #08326e\"/>\n",
       "    <path d=\"M 36.8125 196.799834 \n",
       "L 36.8125 250.022234 \n",
       "L 93.9517 250.022234 \n",
       "L 93.9517 196.799834 \n",
       "L 36.8125 196.799834 \n",
       "z\n",
       "\" clip-path=\"url(#p64ef79f2bf)\" style=\"fill: #08306b\"/>\n",
       "    <path d=\"M 93.9517 196.799834 \n",
       "L 93.9517 250.022234 \n",
       "L 151.0909 250.022234 \n",
       "L 151.0909 196.799834 \n",
       "L 93.9517 196.799834 \n",
       "z\n",
       "\" clip-path=\"url(#p64ef79f2bf)\" style=\"fill: #08306b\"/>\n",
       "    <path d=\"M 151.0909 196.799834 \n",
       "L 151.0909 250.022234 \n",
       "L 208.2301 250.022234 \n",
       "L 208.2301 196.799834 \n",
       "L 151.0909 196.799834 \n",
       "z\n",
       "\" clip-path=\"url(#p64ef79f2bf)\" style=\"fill: #083471\"/>\n",
       "    <path d=\"M 208.2301 196.799834 \n",
       "L 208.2301 250.022234 \n",
       "L 265.3693 250.022234 \n",
       "L 265.3693 196.799834 \n",
       "L 208.2301 196.799834 \n",
       "z\n",
       "\" clip-path=\"url(#p64ef79f2bf)\" style=\"fill: #f2f8fd\"/>\n",
       "    <path d=\"M 265.3693 196.799834 \n",
       "L 265.3693 250.022234 \n",
       "L 322.5085 250.022234 \n",
       "L 322.5085 196.799834 \n",
       "L 265.3693 196.799834 \n",
       "z\n",
       "\" clip-path=\"url(#p64ef79f2bf)\" style=\"fill: #08316d\"/>\n",
       "    <path d=\"M 36.8125 250.022234 \n",
       "L 36.8125 303.244634 \n",
       "L 93.9517 303.244634 \n",
       "L 93.9517 250.022234 \n",
       "L 36.8125 250.022234 \n",
       "z\n",
       "\" clip-path=\"url(#p64ef79f2bf)\" style=\"fill: #083b7c\"/>\n",
       "    <path d=\"M 93.9517 250.022234 \n",
       "L 93.9517 303.244634 \n",
       "L 151.0909 303.244634 \n",
       "L 151.0909 250.022234 \n",
       "L 93.9517 250.022234 \n",
       "z\n",
       "\" clip-path=\"url(#p64ef79f2bf)\" style=\"fill: #084387\"/>\n",
       "    <path d=\"M 151.0909 250.022234 \n",
       "L 151.0909 303.244634 \n",
       "L 208.2301 303.244634 \n",
       "L 208.2301 250.022234 \n",
       "L 151.0909 250.022234 \n",
       "z\n",
       "\" clip-path=\"url(#p64ef79f2bf)\" style=\"fill: #083e81\"/>\n",
       "    <path d=\"M 208.2301 250.022234 \n",
       "L 208.2301 303.244634 \n",
       "L 265.3693 303.244634 \n",
       "L 265.3693 250.022234 \n",
       "L 208.2301 250.022234 \n",
       "z\n",
       "\" clip-path=\"url(#p64ef79f2bf)\" style=\"fill: #9fcae1\"/>\n",
       "    <path d=\"M 265.3693 250.022234 \n",
       "L 265.3693 303.244634 \n",
       "L 322.5085 303.244634 \n",
       "L 322.5085 250.022234 \n",
       "L 265.3693 250.022234 \n",
       "z\n",
       "\" clip-path=\"url(#p64ef79f2bf)\" style=\"fill: #1764ab\"/>\n",
       "   </g>\n",
       "   <g id=\"patch_3\">\n",
       "    <path d=\"M 36.8125 303.244634 \n",
       "L 36.8125 37.132634 \n",
       "\" style=\"fill: none; stroke: #cccccc; stroke-linejoin: miter; stroke-linecap: square\"/>\n",
       "   </g>\n",
       "   <g id=\"patch_4\">\n",
       "    <path d=\"M 322.5085 303.244634 \n",
       "L 322.5085 37.132634 \n",
       "\" style=\"fill: none; stroke: #cccccc; stroke-linejoin: miter; stroke-linecap: square\"/>\n",
       "   </g>\n",
       "   <g id=\"patch_5\">\n",
       "    <path d=\"M 36.8125 303.244634 \n",
       "L 322.5085 303.244634 \n",
       "\" style=\"fill: none; stroke: #cccccc; stroke-linejoin: miter; stroke-linecap: square\"/>\n",
       "   </g>\n",
       "   <g id=\"patch_6\">\n",
       "    <path d=\"M 36.8125 37.132634 \n",
       "L 322.5085 37.132634 \n",
       "\" style=\"fill: none; stroke: #cccccc; stroke-linejoin: miter; stroke-linecap: square\"/>\n",
       "   </g>\n",
       "  </g>\n",
       "  <g id=\"axes_2\">\n",
       "   <g id=\"patch_7\">\n",
       "    <path d=\"M 340.3645 303.244634 \n",
       "L 353.6701 303.244634 \n",
       "L 353.6701 37.132634 \n",
       "L 340.3645 37.132634 \n",
       "z\n",
       "\" style=\"fill: #ffffff\"/>\n",
       "   </g>\n",
       "   <g id=\"matplotlib.axis_3\"/>\n",
       "   <g id=\"matplotlib.axis_4\">\n",
       "    <g id=\"ytick_6\">\n",
       "     <g id=\"line2d_21\"/>\n",
       "     <g id=\"text_11\">\n",
       "      <!-- 0.0 -->\n",
       "      <g style=\"fill: #262626\" transform=\"translate(357.1701 306.868071) scale(0.1 -0.1)\">\n",
       "       <defs>\n",
       "        <path id=\"LiberationSans-30\" d=\"M 3309 2203 \n",
       "Q 3309 1100 2920 518 \n",
       "Q 2531 -63 1772 -63 \n",
       "Q 1013 -63 631 515 \n",
       "Q 250 1094 250 2203 \n",
       "Q 250 3338 620 3903 \n",
       "Q 991 4469 1791 4469 \n",
       "Q 2569 4469 2939 3897 \n",
       "Q 3309 3325 3309 2203 \n",
       "z\n",
       "M 2738 2203 \n",
       "Q 2738 3156 2517 3584 \n",
       "Q 2297 4013 1791 4013 \n",
       "Q 1272 4013 1045 3591 \n",
       "Q 819 3169 819 2203 \n",
       "Q 819 1266 1048 831 \n",
       "Q 1278 397 1778 397 \n",
       "Q 2275 397 2506 840 \n",
       "Q 2738 1284 2738 2203 \n",
       "z\n",
       "\" transform=\"scale(0.015625)\"/>\n",
       "       </defs>\n",
       "       <use xlink:href=\"#LiberationSans-30\"/>\n",
       "       <use xlink:href=\"#LiberationSans-2e\" x=\"55.615234\"/>\n",
       "       <use xlink:href=\"#LiberationSans-30\" x=\"83.398438\"/>\n",
       "      </g>\n",
       "     </g>\n",
       "    </g>\n",
       "    <g id=\"ytick_7\">\n",
       "     <g id=\"line2d_22\"/>\n",
       "     <g id=\"text_12\">\n",
       "      <!-- 0.2 -->\n",
       "      <g style=\"fill: #262626\" transform=\"translate(357.1701 253.645671) scale(0.1 -0.1)\">\n",
       "       <defs>\n",
       "        <path id=\"LiberationSans-32\" d=\"M 322 0 \n",
       "L 322 397 \n",
       "Q 481 763 711 1042 \n",
       "Q 941 1322 1194 1548 \n",
       "Q 1447 1775 1695 1969 \n",
       "Q 1944 2163 2144 2356 \n",
       "Q 2344 2550 2467 2762 \n",
       "Q 2591 2975 2591 3244 \n",
       "Q 2591 3606 2378 3806 \n",
       "Q 2166 4006 1788 4006 \n",
       "Q 1428 4006 1195 3811 \n",
       "Q 963 3616 922 3263 \n",
       "L 347 3316 \n",
       "Q 409 3844 795 4156 \n",
       "Q 1181 4469 1788 4469 \n",
       "Q 2453 4469 2811 4155 \n",
       "Q 3169 3841 3169 3263 \n",
       "Q 3169 3006 3051 2753 \n",
       "Q 2934 2500 2703 2247 \n",
       "Q 2472 1994 1819 1463 \n",
       "Q 1459 1169 1246 933 \n",
       "Q 1034 697 941 478 \n",
       "L 3238 478 \n",
       "L 3238 0 \n",
       "L 322 0 \n",
       "z\n",
       "\" transform=\"scale(0.015625)\"/>\n",
       "       </defs>\n",
       "       <use xlink:href=\"#LiberationSans-30\"/>\n",
       "       <use xlink:href=\"#LiberationSans-2e\" x=\"55.615234\"/>\n",
       "       <use xlink:href=\"#LiberationSans-32\" x=\"83.398438\"/>\n",
       "      </g>\n",
       "     </g>\n",
       "    </g>\n",
       "    <g id=\"ytick_8\">\n",
       "     <g id=\"line2d_23\"/>\n",
       "     <g id=\"text_13\">\n",
       "      <!-- 0.4 -->\n",
       "      <g style=\"fill: #262626\" transform=\"translate(357.1701 200.423271) scale(0.1 -0.1)\">\n",
       "       <defs>\n",
       "        <path id=\"LiberationSans-34\" d=\"M 2753 997 \n",
       "L 2753 0 \n",
       "L 2222 0 \n",
       "L 2222 997 \n",
       "L 147 997 \n",
       "L 147 1434 \n",
       "L 2163 4403 \n",
       "L 2753 4403 \n",
       "L 2753 1441 \n",
       "L 3372 1441 \n",
       "L 3372 997 \n",
       "L 2753 997 \n",
       "z\n",
       "M 2222 3769 \n",
       "Q 2216 3750 2134 3603 \n",
       "Q 2053 3456 2013 3397 \n",
       "L 884 1734 \n",
       "L 716 1503 \n",
       "L 666 1441 \n",
       "L 2222 1441 \n",
       "L 2222 3769 \n",
       "z\n",
       "\" transform=\"scale(0.015625)\"/>\n",
       "       </defs>\n",
       "       <use xlink:href=\"#LiberationSans-30\"/>\n",
       "       <use xlink:href=\"#LiberationSans-2e\" x=\"55.615234\"/>\n",
       "       <use xlink:href=\"#LiberationSans-34\" x=\"83.398438\"/>\n",
       "      </g>\n",
       "     </g>\n",
       "    </g>\n",
       "    <g id=\"ytick_9\">\n",
       "     <g id=\"line2d_24\"/>\n",
       "     <g id=\"text_14\">\n",
       "      <!-- 0.6 -->\n",
       "      <g style=\"fill: #262626\" transform=\"translate(357.1701 147.200871) scale(0.1 -0.1)\">\n",
       "       <defs>\n",
       "        <path id=\"LiberationSans-36\" d=\"M 3278 1441 \n",
       "Q 3278 744 2900 340 \n",
       "Q 2522 -63 1856 -63 \n",
       "Q 1113 -63 719 490 \n",
       "Q 325 1044 325 2100 \n",
       "Q 325 3244 734 3856 \n",
       "Q 1144 4469 1900 4469 \n",
       "Q 2897 4469 3156 3572 \n",
       "L 2619 3475 \n",
       "Q 2453 4013 1894 4013 \n",
       "Q 1413 4013 1148 3564 \n",
       "Q 884 3116 884 2266 \n",
       "Q 1038 2550 1316 2698 \n",
       "Q 1594 2847 1953 2847 \n",
       "Q 2563 2847 2920 2465 \n",
       "Q 3278 2084 3278 1441 \n",
       "z\n",
       "M 2706 1416 \n",
       "Q 2706 1894 2472 2153 \n",
       "Q 2238 2413 1819 2413 \n",
       "Q 1425 2413 1183 2183 \n",
       "Q 941 1953 941 1550 \n",
       "Q 941 1041 1192 716 \n",
       "Q 1444 391 1838 391 \n",
       "Q 2244 391 2475 664 \n",
       "Q 2706 938 2706 1416 \n",
       "z\n",
       "\" transform=\"scale(0.015625)\"/>\n",
       "       </defs>\n",
       "       <use xlink:href=\"#LiberationSans-30\"/>\n",
       "       <use xlink:href=\"#LiberationSans-2e\" x=\"55.615234\"/>\n",
       "       <use xlink:href=\"#LiberationSans-36\" x=\"83.398438\"/>\n",
       "      </g>\n",
       "     </g>\n",
       "    </g>\n",
       "    <g id=\"ytick_10\">\n",
       "     <g id=\"line2d_25\"/>\n",
       "     <g id=\"text_15\">\n",
       "      <!-- 0.8 -->\n",
       "      <g style=\"fill: #262626\" transform=\"translate(357.1701 93.978471) scale(0.1 -0.1)\">\n",
       "       <defs>\n",
       "        <path id=\"LiberationSans-38\" d=\"M 3281 1228 \n",
       "Q 3281 619 2893 278 \n",
       "Q 2506 -63 1781 -63 \n",
       "Q 1075 -63 676 271 \n",
       "Q 278 606 278 1222 \n",
       "Q 278 1653 525 1947 \n",
       "Q 772 2241 1156 2303 \n",
       "L 1156 2316 \n",
       "Q 797 2400 589 2681 \n",
       "Q 381 2963 381 3341 \n",
       "Q 381 3844 757 4156 \n",
       "Q 1134 4469 1769 4469 \n",
       "Q 2419 4469 2795 4162 \n",
       "Q 3172 3856 3172 3334 \n",
       "Q 3172 2956 2962 2675 \n",
       "Q 2753 2394 2391 2322 \n",
       "L 2391 2309 \n",
       "Q 2813 2241 3047 1952 \n",
       "Q 3281 1663 3281 1228 \n",
       "z\n",
       "M 2588 3303 \n",
       "Q 2588 4050 1769 4050 \n",
       "Q 1372 4050 1164 3862 \n",
       "Q 956 3675 956 3303 \n",
       "Q 956 2925 1170 2726 \n",
       "Q 1384 2528 1775 2528 \n",
       "Q 2172 2528 2380 2711 \n",
       "Q 2588 2894 2588 3303 \n",
       "z\n",
       "M 2697 1281 \n",
       "Q 2697 1691 2453 1898 \n",
       "Q 2209 2106 1769 2106 \n",
       "Q 1341 2106 1100 1882 \n",
       "Q 859 1659 859 1269 \n",
       "Q 859 359 1788 359 \n",
       "Q 2247 359 2472 579 \n",
       "Q 2697 800 2697 1281 \n",
       "z\n",
       "\" transform=\"scale(0.015625)\"/>\n",
       "       </defs>\n",
       "       <use xlink:href=\"#LiberationSans-30\"/>\n",
       "       <use xlink:href=\"#LiberationSans-2e\" x=\"55.615234\"/>\n",
       "       <use xlink:href=\"#LiberationSans-38\" x=\"83.398438\"/>\n",
       "      </g>\n",
       "     </g>\n",
       "    </g>\n",
       "    <g id=\"ytick_11\">\n",
       "     <g id=\"line2d_26\"/>\n",
       "     <g id=\"text_16\">\n",
       "      <!-- 1.0 -->\n",
       "      <g style=\"fill: #262626\" transform=\"translate(357.1701 40.756071) scale(0.1 -0.1)\">\n",
       "       <defs>\n",
       "        <path id=\"LiberationSans-31\" d=\"M 488 0 \n",
       "L 488 478 \n",
       "L 1609 478 \n",
       "L 1609 3866 \n",
       "L 616 3156 \n",
       "L 616 3688 \n",
       "L 1656 4403 \n",
       "L 2175 4403 \n",
       "L 2175 478 \n",
       "L 3247 478 \n",
       "L 3247 0 \n",
       "L 488 0 \n",
       "z\n",
       "\" transform=\"scale(0.015625)\"/>\n",
       "       </defs>\n",
       "       <use xlink:href=\"#LiberationSans-31\"/>\n",
       "       <use xlink:href=\"#LiberationSans-2e\" x=\"55.615234\"/>\n",
       "       <use xlink:href=\"#LiberationSans-30\" x=\"83.398438\"/>\n",
       "      </g>\n",
       "     </g>\n",
       "    </g>\n",
       "   </g>\n",
       "   <image xlink:href=\"data:image/png;base64,\n",
       "iVBORw0KGgoAAAANSUhEUgAAABIAAAFyCAYAAAD4TYq5AAABwklEQVR4nO2cwW0EMQwD7cU+Uk76Sv/vSwnSY3AYEGQBxFKUKNvA3f35/fscAO+5D8FzGJZzznvupYgqbUCwNOyLyBpV2kwULE03tE+HdkClrYgqbUCwNGOw2WpUaTOSpV1q1jCiw/Ak16jSZmB9JJSmc01Yo9r/PaK6NsPnmrBGtf97RHVths81YY1q/4YI4am0BXzS3gd6zyZrhBFV2oDgzg6WprQfI6q0AZU2wyctO9hq/4BKmwGeaju0IxF08DdKE7oGPUXUtQURNf3CYGtmjyCHliLSSaNixDf9wmBLzmyEhu1sWUMKpz85s3Ndo5iM0riGhIiCa+TbtFhmU58kzKPgqAWnvzUa0CeNGd0iC6LgYNPViDxDym5HQtd8DambNaP9FJEvs7F3SGFnY0S6huSeDxGa7M72SatrCyLd0OrOR9g1y3gayZXm6+zg6zomLXhouTutThroGgPhw7hPGvfbLNv0Cw9awn+uqGsjUV1bEDE8ycHWTTujrm2IGJ4G2wJdRzPq2oKowbYgYni6jhZIdg2TdhpsM5FQGuSacdNSREJpMteSgy13HWFf5JMW7JrvnC0MNt2I1LUNkU3aP0nMCNDmnYQYAAAAAElFTkSuQmCC\" id=\"image6c7794096c\" transform=\"scale(1 -1) translate(0 -266.4)\" x=\"340.56\" y=\"-36.72\" width=\"12.96\" height=\"266.4\"/>\n",
       "   <g id=\"LineCollection_1\"/>\n",
       "   <g id=\"patch_8\">\n",
       "    <path d=\"M 340.3645 303.244634 \n",
       "L 347.0173 303.244634 \n",
       "L 353.6701 303.244634 \n",
       "L 353.6701 37.132634 \n",
       "L 347.0173 37.132634 \n",
       "L 340.3645 37.132634 \n",
       "L 340.3645 303.244634 \n",
       "z\n",
       "\" style=\"fill: none; stroke: #cccccc; stroke-linejoin: miter; stroke-linecap: square\"/>\n",
       "   </g>\n",
       "  </g>\n",
       " </g>\n",
       " <defs>\n",
       "  <clipPath id=\"p64ef79f2bf\">\n",
       "   <rect x=\"36.8125\" y=\"37.132634\" width=\"285.696\" height=\"266.112\"/>\n",
       "  </clipPath>\n",
       " </defs>\n",
       "</svg>\n"
      ],
      "text/plain": [
       "<Figure size 640x480 with 2 Axes>"
      ]
     },
     "metadata": {},
     "output_type": "display_data"
    }
   ],
   "source": [
    "plot_attention(translator, 'jag saknar min familj . ')"
   ]
  },
  {
   "cell_type": "markdown",
   "metadata": {},
   "source": [
    "#### 🤔 Task 7: Use these heatmaps to inspect the attention patterns for selected Swedish sentences\n",
    "\n",
    "Try to find sentences for which the model produces reasonably good English translations. If you don't speak Swedish, use sentences from the validation data. It might be interesting to look at examples where the Swedish and the English word order differ substantially.\n",
    "\n",
    "Based on your exploration, **answer the following questions:**\n",
    "\n",
    "- What sentences did you try out? What patterns did you spot? Include example heatmaps in your notebook.\n",
    "\n",
    "We used the Swedish sentence: \"jag saknar min familj\" (which means \"I miss my family\").\n",
    "At the beginning, the model gave strange translations like:\n",
    "\n",
    "“i hate my car”\n",
    "\n",
    "“i love my coat”\n",
    "\n",
    "But after more training, it finally gave the correct one:\n",
    "\n",
    "“i miss my family”\n",
    "\n",
    "From the attention heatmap, several patterns are visible:\n",
    "Strong alignments between source and target words appear as brighter squares (closer to white):\n",
    "\n",
    "\"min\" aligns strongly with \"my\"\n",
    "\n",
    "\"vän\" aligns well with \"friend\"\n",
    "\n",
    "Punctuation match is also entirely accurate, the period at the end aligns well across languages. The matrix is mostly diagonal, which is common for sentence-level translation between languages with similar word order. This diagonal attention suggests good correspondence. Yes, the results are generally what we expected. The attention model appears to be learning token alignments effectively, especially in later epochs.\n",
    "\n",
    "- Based on what you know about attention, did you expect your results? Was there anything surprising in them?\n",
    "\n",
    "Yes, the results mostly matched what we expected. The attention model seems to be learning how to align tokens well, especially during the later stages of training.\n",
    "\n",
    "Early on, the translations didn’t make much sense (like “I love my hair”), but the attention maps still showed meaningful word connections. This means the model had a sense of where to focus, even before it fully understood how to translate properly.\n",
    "\n",
    "We also noticed some word repetition in the middle of training (like “I already already already…”), which is a common issue in these types of models before they are fully trained."
   ]
  },
  {
   "cell_type": "markdown",
   "metadata": {},
   "source": [
    "**🥳 Congratulations on finishing this lab! 🥳**"
   ]
  }
 ],
 "metadata": {
  "accelerator": "GPU",
  "colab": {
   "collapsed_sections": [],
   "name": "NLP-L5-WithSolutions.ipynb",
   "provenance": []
  },
  "kernelspec": {
   "display_name": "Python 3 (ipykernel)",
   "language": "python",
   "name": "python3"
  },
  "language_info": {
   "codemirror_mode": {
    "name": "ipython",
    "version": 3
   },
   "file_extension": ".py",
   "mimetype": "text/x-python",
   "name": "python",
   "nbconvert_exporter": "python",
   "pygments_lexer": "ipython3",
   "version": "3.10.12"
  }
 },
 "nbformat": 4,
 "nbformat_minor": 4
}
